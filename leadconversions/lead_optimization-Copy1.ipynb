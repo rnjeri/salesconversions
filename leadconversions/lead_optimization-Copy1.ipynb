{
 "cells": [
  {
   "cell_type": "markdown",
   "metadata": {},
   "source": [
    "### Lead Conversion Analysis"
   ]
  },
  {
   "cell_type": "markdown",
   "metadata": {},
   "source": [
    "##### Understand your sales pipeline and uncover what can lead to successful sales opportunities and better anticipate performance gaps."
   ]
  },
  {
   "cell_type": "markdown",
   "metadata": {},
   "source": [
    "What is better? False Positives or False Negatives?  Cost-Benefit analysis, to minimize False Negatives.Change the threshhold. "
   ]
  },
  {
   "cell_type": "markdown",
   "metadata": {},
   "source": [
    "### Exploratory Data Analysis"
   ]
  },
  {
   "cell_type": "code",
   "execution_count": 1,
   "metadata": {
    "collapsed": true
   },
   "outputs": [],
   "source": [
    "import pandas as pd\n",
    "import matplotlib.pyplot as plt\n",
    "import matplotlib\n",
    "matplotlib.style.use('ggplot')\n",
    "%matplotlib inline\n",
    "%config InlineBackend.figure_format = 'retina'"
   ]
  },
  {
   "cell_type": "code",
   "execution_count": 2,
   "metadata": {
    "collapsed": true
   },
   "outputs": [],
   "source": [
    "df = pd.read_csv('WA_Fn-UseC_-Sales-Win-Loss.csv')"
   ]
  },
  {
   "cell_type": "code",
   "execution_count": 3,
   "metadata": {
    "collapsed": false
   },
   "outputs": [
    {
     "data": {
      "text/html": [
       "<div>\n",
       "<style>\n",
       "    .dataframe thead tr:only-child th {\n",
       "        text-align: right;\n",
       "    }\n",
       "\n",
       "    .dataframe thead th {\n",
       "        text-align: left;\n",
       "    }\n",
       "\n",
       "    .dataframe tbody tr th {\n",
       "        vertical-align: top;\n",
       "    }\n",
       "</style>\n",
       "<table border=\"1\" class=\"dataframe\">\n",
       "  <thead>\n",
       "    <tr style=\"text-align: right;\">\n",
       "      <th></th>\n",
       "      <th>Opportunity Number</th>\n",
       "      <th>Supplies Subgroup</th>\n",
       "      <th>Supplies Group</th>\n",
       "      <th>Region</th>\n",
       "      <th>Route To Market</th>\n",
       "      <th>Elapsed Days In Sales Stage</th>\n",
       "      <th>Opportunity Result</th>\n",
       "      <th>Sales Stage Change Count</th>\n",
       "      <th>Total Days Identified Through Closing</th>\n",
       "      <th>Total Days Identified Through Qualified</th>\n",
       "      <th>Opportunity Amount USD</th>\n",
       "      <th>Client Size By Revenue</th>\n",
       "      <th>Client Size By Employee Count</th>\n",
       "      <th>Revenue From Client Past Two Years</th>\n",
       "      <th>Competitor Type</th>\n",
       "      <th>Ratio Days Identified To Total Days</th>\n",
       "      <th>Ratio Days Validated To Total Days</th>\n",
       "      <th>Ratio Days Qualified To Total Days</th>\n",
       "      <th>Deal Size Category</th>\n",
       "    </tr>\n",
       "  </thead>\n",
       "  <tbody>\n",
       "    <tr>\n",
       "      <th>0</th>\n",
       "      <td>1641984</td>\n",
       "      <td>Exterior Accessories</td>\n",
       "      <td>Car Accessories</td>\n",
       "      <td>Northwest</td>\n",
       "      <td>Fields Sales</td>\n",
       "      <td>76</td>\n",
       "      <td>Won</td>\n",
       "      <td>13</td>\n",
       "      <td>104</td>\n",
       "      <td>101</td>\n",
       "      <td>0</td>\n",
       "      <td>5</td>\n",
       "      <td>5</td>\n",
       "      <td>0</td>\n",
       "      <td>Unknown</td>\n",
       "      <td>0.69636</td>\n",
       "      <td>0.113985</td>\n",
       "      <td>0.154215</td>\n",
       "      <td>1</td>\n",
       "    </tr>\n",
       "    <tr>\n",
       "      <th>1</th>\n",
       "      <td>1658010</td>\n",
       "      <td>Exterior Accessories</td>\n",
       "      <td>Car Accessories</td>\n",
       "      <td>Pacific</td>\n",
       "      <td>Reseller</td>\n",
       "      <td>63</td>\n",
       "      <td>Loss</td>\n",
       "      <td>2</td>\n",
       "      <td>163</td>\n",
       "      <td>163</td>\n",
       "      <td>0</td>\n",
       "      <td>3</td>\n",
       "      <td>5</td>\n",
       "      <td>0</td>\n",
       "      <td>Unknown</td>\n",
       "      <td>0.00000</td>\n",
       "      <td>1.000000</td>\n",
       "      <td>0.000000</td>\n",
       "      <td>1</td>\n",
       "    </tr>\n",
       "    <tr>\n",
       "      <th>2</th>\n",
       "      <td>1674737</td>\n",
       "      <td>Motorcycle Parts</td>\n",
       "      <td>Performance &amp; Non-auto</td>\n",
       "      <td>Pacific</td>\n",
       "      <td>Reseller</td>\n",
       "      <td>24</td>\n",
       "      <td>Won</td>\n",
       "      <td>7</td>\n",
       "      <td>82</td>\n",
       "      <td>82</td>\n",
       "      <td>7750</td>\n",
       "      <td>1</td>\n",
       "      <td>1</td>\n",
       "      <td>0</td>\n",
       "      <td>Unknown</td>\n",
       "      <td>1.00000</td>\n",
       "      <td>0.000000</td>\n",
       "      <td>0.000000</td>\n",
       "      <td>1</td>\n",
       "    </tr>\n",
       "    <tr>\n",
       "      <th>3</th>\n",
       "      <td>1675224</td>\n",
       "      <td>Shelters &amp; RV</td>\n",
       "      <td>Performance &amp; Non-auto</td>\n",
       "      <td>Midwest</td>\n",
       "      <td>Reseller</td>\n",
       "      <td>16</td>\n",
       "      <td>Loss</td>\n",
       "      <td>5</td>\n",
       "      <td>124</td>\n",
       "      <td>124</td>\n",
       "      <td>0</td>\n",
       "      <td>1</td>\n",
       "      <td>1</td>\n",
       "      <td>0</td>\n",
       "      <td>Known</td>\n",
       "      <td>1.00000</td>\n",
       "      <td>0.000000</td>\n",
       "      <td>0.000000</td>\n",
       "      <td>1</td>\n",
       "    </tr>\n",
       "    <tr>\n",
       "      <th>4</th>\n",
       "      <td>1689785</td>\n",
       "      <td>Exterior Accessories</td>\n",
       "      <td>Car Accessories</td>\n",
       "      <td>Pacific</td>\n",
       "      <td>Reseller</td>\n",
       "      <td>69</td>\n",
       "      <td>Loss</td>\n",
       "      <td>11</td>\n",
       "      <td>91</td>\n",
       "      <td>13</td>\n",
       "      <td>69756</td>\n",
       "      <td>1</td>\n",
       "      <td>1</td>\n",
       "      <td>0</td>\n",
       "      <td>Unknown</td>\n",
       "      <td>0.00000</td>\n",
       "      <td>0.141125</td>\n",
       "      <td>0.000000</td>\n",
       "      <td>4</td>\n",
       "    </tr>\n",
       "  </tbody>\n",
       "</table>\n",
       "</div>"
      ],
      "text/plain": [
       "   Opportunity Number     Supplies Subgroup          Supplies Group  \\\n",
       "0             1641984  Exterior Accessories         Car Accessories   \n",
       "1             1658010  Exterior Accessories         Car Accessories   \n",
       "2             1674737      Motorcycle Parts  Performance & Non-auto   \n",
       "3             1675224         Shelters & RV  Performance & Non-auto   \n",
       "4             1689785  Exterior Accessories         Car Accessories   \n",
       "\n",
       "      Region Route To Market  Elapsed Days In Sales Stage Opportunity Result  \\\n",
       "0  Northwest    Fields Sales                           76                Won   \n",
       "1    Pacific        Reseller                           63               Loss   \n",
       "2    Pacific        Reseller                           24                Won   \n",
       "3    Midwest        Reseller                           16               Loss   \n",
       "4    Pacific        Reseller                           69               Loss   \n",
       "\n",
       "   Sales Stage Change Count  Total Days Identified Through Closing  \\\n",
       "0                        13                                    104   \n",
       "1                         2                                    163   \n",
       "2                         7                                     82   \n",
       "3                         5                                    124   \n",
       "4                        11                                     91   \n",
       "\n",
       "   Total Days Identified Through Qualified  Opportunity Amount USD  \\\n",
       "0                                      101                       0   \n",
       "1                                      163                       0   \n",
       "2                                       82                    7750   \n",
       "3                                      124                       0   \n",
       "4                                       13                   69756   \n",
       "\n",
       "   Client Size By Revenue  Client Size By Employee Count  \\\n",
       "0                       5                              5   \n",
       "1                       3                              5   \n",
       "2                       1                              1   \n",
       "3                       1                              1   \n",
       "4                       1                              1   \n",
       "\n",
       "   Revenue From Client Past Two Years Competitor Type  \\\n",
       "0                                   0         Unknown   \n",
       "1                                   0         Unknown   \n",
       "2                                   0         Unknown   \n",
       "3                                   0           Known   \n",
       "4                                   0         Unknown   \n",
       "\n",
       "   Ratio Days Identified To Total Days  Ratio Days Validated To Total Days  \\\n",
       "0                              0.69636                            0.113985   \n",
       "1                              0.00000                            1.000000   \n",
       "2                              1.00000                            0.000000   \n",
       "3                              1.00000                            0.000000   \n",
       "4                              0.00000                            0.141125   \n",
       "\n",
       "   Ratio Days Qualified To Total Days  Deal Size Category  \n",
       "0                            0.154215                   1  \n",
       "1                            0.000000                   1  \n",
       "2                            0.000000                   1  \n",
       "3                            0.000000                   1  \n",
       "4                            0.000000                   4  "
      ]
     },
     "execution_count": 3,
     "metadata": {},
     "output_type": "execute_result"
    }
   ],
   "source": [
    "df.head()"
   ]
  },
  {
   "cell_type": "code",
   "execution_count": 4,
   "metadata": {
    "collapsed": false
   },
   "outputs": [
    {
     "data": {
      "text/plain": [
       "Index([u'Opportunity Number', u'Supplies Subgroup', u'Supplies Group',\n",
       "       u'Region', u'Route To Market', u'Elapsed Days In Sales Stage',\n",
       "       u'Opportunity Result', u'Sales Stage Change Count',\n",
       "       u'Total Days Identified Through Closing',\n",
       "       u'Total Days Identified Through Qualified', u'Opportunity Amount USD',\n",
       "       u'Client Size By Revenue', u'Client Size By Employee Count',\n",
       "       u'Revenue From Client Past Two Years', u'Competitor Type',\n",
       "       u'Ratio Days Identified To Total Days',\n",
       "       u'Ratio Days Validated To Total Days',\n",
       "       u'Ratio Days Qualified To Total Days', u'Deal Size Category'],\n",
       "      dtype='object')"
      ]
     },
     "execution_count": 4,
     "metadata": {},
     "output_type": "execute_result"
    }
   ],
   "source": [
    "df.columns"
   ]
  },
  {
   "cell_type": "code",
   "execution_count": 5,
   "metadata": {
    "collapsed": false
   },
   "outputs": [
    {
     "name": "stdout",
     "output_type": "stream",
     "text": [
      "<class 'pandas.core.frame.DataFrame'>\n",
      "RangeIndex: 78025 entries, 0 to 78024\n",
      "Data columns (total 19 columns):\n",
      "Opportunity Number                         78025 non-null int64\n",
      "Supplies Subgroup                          78025 non-null object\n",
      "Supplies Group                             78025 non-null object\n",
      "Region                                     78025 non-null object\n",
      "Route To Market                            78025 non-null object\n",
      "Elapsed Days In Sales Stage                78025 non-null int64\n",
      "Opportunity Result                         78025 non-null object\n",
      "Sales Stage Change Count                   78025 non-null int64\n",
      "Total Days Identified Through Closing      78025 non-null int64\n",
      "Total Days Identified Through Qualified    78025 non-null int64\n",
      "Opportunity Amount USD                     78025 non-null int64\n",
      "Client Size By Revenue                     78025 non-null int64\n",
      "Client Size By Employee Count              78025 non-null int64\n",
      "Revenue From Client Past Two Years         78025 non-null int64\n",
      "Competitor Type                            78025 non-null object\n",
      "Ratio Days Identified To Total Days        78025 non-null float64\n",
      "Ratio Days Validated To Total Days         78025 non-null float64\n",
      "Ratio Days Qualified To Total Days         78025 non-null float64\n",
      "Deal Size Category                         78025 non-null int64\n",
      "dtypes: float64(3), int64(10), object(6)\n",
      "memory usage: 11.3+ MB\n"
     ]
    }
   ],
   "source": [
    "df.info()"
   ]
  },
  {
   "cell_type": "code",
   "execution_count": 6,
   "metadata": {
    "collapsed": false
   },
   "outputs": [
    {
     "data": {
      "text/html": [
       "<div>\n",
       "<style>\n",
       "    .dataframe thead tr:only-child th {\n",
       "        text-align: right;\n",
       "    }\n",
       "\n",
       "    .dataframe thead th {\n",
       "        text-align: left;\n",
       "    }\n",
       "\n",
       "    .dataframe tbody tr th {\n",
       "        vertical-align: top;\n",
       "    }\n",
       "</style>\n",
       "<table border=\"1\" class=\"dataframe\">\n",
       "  <thead>\n",
       "    <tr style=\"text-align: right;\">\n",
       "      <th></th>\n",
       "      <th>Opportunity Number</th>\n",
       "      <th>Supplies Subgroup</th>\n",
       "      <th>Supplies Group</th>\n",
       "      <th>Region</th>\n",
       "      <th>Route To Market</th>\n",
       "      <th>Elapsed Days In Sales Stage</th>\n",
       "      <th>Opportunity Result</th>\n",
       "      <th>Sales Stage Change Count</th>\n",
       "      <th>Total Days Identified Through Closing</th>\n",
       "      <th>Total Days Identified Through Qualified</th>\n",
       "      <th>Opportunity Amount USD</th>\n",
       "      <th>Client Size By Revenue</th>\n",
       "      <th>Client Size By Employee Count</th>\n",
       "      <th>Revenue From Client Past Two Years</th>\n",
       "      <th>Competitor Type</th>\n",
       "      <th>Ratio Days Identified To Total Days</th>\n",
       "      <th>Ratio Days Validated To Total Days</th>\n",
       "      <th>Ratio Days Qualified To Total Days</th>\n",
       "      <th>Deal Size Category</th>\n",
       "    </tr>\n",
       "  </thead>\n",
       "  <tbody>\n",
       "    <tr>\n",
       "      <th>0</th>\n",
       "      <td>1641984</td>\n",
       "      <td>Exterior Accessories</td>\n",
       "      <td>Car Accessories</td>\n",
       "      <td>Northwest</td>\n",
       "      <td>Fields Sales</td>\n",
       "      <td>76</td>\n",
       "      <td>Won</td>\n",
       "      <td>13</td>\n",
       "      <td>104</td>\n",
       "      <td>101</td>\n",
       "      <td>0</td>\n",
       "      <td>5</td>\n",
       "      <td>5</td>\n",
       "      <td>0</td>\n",
       "      <td>Unknown</td>\n",
       "      <td>0.69636</td>\n",
       "      <td>0.113985</td>\n",
       "      <td>0.154215</td>\n",
       "      <td>1</td>\n",
       "    </tr>\n",
       "    <tr>\n",
       "      <th>1</th>\n",
       "      <td>1658010</td>\n",
       "      <td>Exterior Accessories</td>\n",
       "      <td>Car Accessories</td>\n",
       "      <td>Pacific</td>\n",
       "      <td>Reseller</td>\n",
       "      <td>63</td>\n",
       "      <td>Loss</td>\n",
       "      <td>2</td>\n",
       "      <td>163</td>\n",
       "      <td>163</td>\n",
       "      <td>0</td>\n",
       "      <td>3</td>\n",
       "      <td>5</td>\n",
       "      <td>0</td>\n",
       "      <td>Unknown</td>\n",
       "      <td>0.00000</td>\n",
       "      <td>1.000000</td>\n",
       "      <td>0.000000</td>\n",
       "      <td>1</td>\n",
       "    </tr>\n",
       "    <tr>\n",
       "      <th>2</th>\n",
       "      <td>1674737</td>\n",
       "      <td>Motorcycle Parts</td>\n",
       "      <td>Performance &amp; Non-auto</td>\n",
       "      <td>Pacific</td>\n",
       "      <td>Reseller</td>\n",
       "      <td>24</td>\n",
       "      <td>Won</td>\n",
       "      <td>7</td>\n",
       "      <td>82</td>\n",
       "      <td>82</td>\n",
       "      <td>7750</td>\n",
       "      <td>1</td>\n",
       "      <td>1</td>\n",
       "      <td>0</td>\n",
       "      <td>Unknown</td>\n",
       "      <td>1.00000</td>\n",
       "      <td>0.000000</td>\n",
       "      <td>0.000000</td>\n",
       "      <td>1</td>\n",
       "    </tr>\n",
       "    <tr>\n",
       "      <th>3</th>\n",
       "      <td>1675224</td>\n",
       "      <td>Shelters &amp; RV</td>\n",
       "      <td>Performance &amp; Non-auto</td>\n",
       "      <td>Midwest</td>\n",
       "      <td>Reseller</td>\n",
       "      <td>16</td>\n",
       "      <td>Loss</td>\n",
       "      <td>5</td>\n",
       "      <td>124</td>\n",
       "      <td>124</td>\n",
       "      <td>0</td>\n",
       "      <td>1</td>\n",
       "      <td>1</td>\n",
       "      <td>0</td>\n",
       "      <td>Known</td>\n",
       "      <td>1.00000</td>\n",
       "      <td>0.000000</td>\n",
       "      <td>0.000000</td>\n",
       "      <td>1</td>\n",
       "    </tr>\n",
       "    <tr>\n",
       "      <th>4</th>\n",
       "      <td>1689785</td>\n",
       "      <td>Exterior Accessories</td>\n",
       "      <td>Car Accessories</td>\n",
       "      <td>Pacific</td>\n",
       "      <td>Reseller</td>\n",
       "      <td>69</td>\n",
       "      <td>Loss</td>\n",
       "      <td>11</td>\n",
       "      <td>91</td>\n",
       "      <td>13</td>\n",
       "      <td>69756</td>\n",
       "      <td>1</td>\n",
       "      <td>1</td>\n",
       "      <td>0</td>\n",
       "      <td>Unknown</td>\n",
       "      <td>0.00000</td>\n",
       "      <td>0.141125</td>\n",
       "      <td>0.000000</td>\n",
       "      <td>4</td>\n",
       "    </tr>\n",
       "  </tbody>\n",
       "</table>\n",
       "</div>"
      ],
      "text/plain": [
       "   Opportunity Number     Supplies Subgroup          Supplies Group  \\\n",
       "0             1641984  Exterior Accessories         Car Accessories   \n",
       "1             1658010  Exterior Accessories         Car Accessories   \n",
       "2             1674737      Motorcycle Parts  Performance & Non-auto   \n",
       "3             1675224         Shelters & RV  Performance & Non-auto   \n",
       "4             1689785  Exterior Accessories         Car Accessories   \n",
       "\n",
       "      Region Route To Market  Elapsed Days In Sales Stage Opportunity Result  \\\n",
       "0  Northwest    Fields Sales                           76                Won   \n",
       "1    Pacific        Reseller                           63               Loss   \n",
       "2    Pacific        Reseller                           24                Won   \n",
       "3    Midwest        Reseller                           16               Loss   \n",
       "4    Pacific        Reseller                           69               Loss   \n",
       "\n",
       "   Sales Stage Change Count  Total Days Identified Through Closing  \\\n",
       "0                        13                                    104   \n",
       "1                         2                                    163   \n",
       "2                         7                                     82   \n",
       "3                         5                                    124   \n",
       "4                        11                                     91   \n",
       "\n",
       "   Total Days Identified Through Qualified  Opportunity Amount USD  \\\n",
       "0                                      101                       0   \n",
       "1                                      163                       0   \n",
       "2                                       82                    7750   \n",
       "3                                      124                       0   \n",
       "4                                       13                   69756   \n",
       "\n",
       "   Client Size By Revenue  Client Size By Employee Count  \\\n",
       "0                       5                              5   \n",
       "1                       3                              5   \n",
       "2                       1                              1   \n",
       "3                       1                              1   \n",
       "4                       1                              1   \n",
       "\n",
       "   Revenue From Client Past Two Years Competitor Type  \\\n",
       "0                                   0         Unknown   \n",
       "1                                   0         Unknown   \n",
       "2                                   0         Unknown   \n",
       "3                                   0           Known   \n",
       "4                                   0         Unknown   \n",
       "\n",
       "   Ratio Days Identified To Total Days  Ratio Days Validated To Total Days  \\\n",
       "0                              0.69636                            0.113985   \n",
       "1                              0.00000                            1.000000   \n",
       "2                              1.00000                            0.000000   \n",
       "3                              1.00000                            0.000000   \n",
       "4                              0.00000                            0.141125   \n",
       "\n",
       "   Ratio Days Qualified To Total Days  Deal Size Category  \n",
       "0                            0.154215                   1  \n",
       "1                            0.000000                   1  \n",
       "2                            0.000000                   1  \n",
       "3                            0.000000                   1  \n",
       "4                            0.000000                   4  "
      ]
     },
     "execution_count": 6,
     "metadata": {},
     "output_type": "execute_result"
    }
   ],
   "source": [
    "df.head()"
   ]
  },
  {
   "cell_type": "code",
   "execution_count": 7,
   "metadata": {
    "collapsed": false
   },
   "outputs": [],
   "source": [
    "#pd.plotting.scatter_matrix(df, diagonal = 'kde')"
   ]
  },
  {
   "cell_type": "code",
   "execution_count": 8,
   "metadata": {
    "collapsed": false
   },
   "outputs": [],
   "source": [
    "#pd.plotting.scatter_matrix(df)"
   ]
  },
  {
   "cell_type": "code",
   "execution_count": 9,
   "metadata": {
    "collapsed": false
   },
   "outputs": [
    {
     "data": {
      "text/plain": [
       "[<matplotlib.text.Text at 0x74c54d62cd90>,\n",
       " <matplotlib.text.Text at 0x74c54d6752d0>]"
      ]
     },
     "execution_count": 9,
     "metadata": {},
     "output_type": "execute_result"
    },
    {
     "data": {
      "image/png": "[encoded data removed]",
      "text/plain": [
       "<matplotlib.figure.Figure at 0x74c54d6d4b90>"
      ]
     },
     "metadata": {
      "image/png": {
       "height": 294,
       "width": 405
      }
     },
     "output_type": "display_data"
    }
   ],
   "source": [
    "ax = df['Opportunity Result'].value_counts().plot(kind = 'bar', title = 'Outcome Bar Graph')\n",
    "ax.set(xlabel = 'Outcome', ylabel = 'Quantity')"
   ]
  },
  {
   "cell_type": "code",
   "execution_count": 10,
   "metadata": {
    "collapsed": false
   },
   "outputs": [
    {
     "data": {
      "text/html": [
       "<div>\n",
       "<style>\n",
       "    .dataframe thead tr:only-child th {\n",
       "        text-align: right;\n",
       "    }\n",
       "\n",
       "    .dataframe thead th {\n",
       "        text-align: left;\n",
       "    }\n",
       "\n",
       "    .dataframe tbody tr th {\n",
       "        vertical-align: top;\n",
       "    }\n",
       "</style>\n",
       "<table border=\"1\" class=\"dataframe\">\n",
       "  <thead>\n",
       "    <tr style=\"text-align: right;\">\n",
       "      <th></th>\n",
       "      <th>Opportunity Number</th>\n",
       "      <th>Supplies Subgroup</th>\n",
       "      <th>Supplies Group</th>\n",
       "      <th>Region</th>\n",
       "      <th>Route To Market</th>\n",
       "      <th>Elapsed Days In Sales Stage</th>\n",
       "      <th>Opportunity Result</th>\n",
       "      <th>Sales Stage Change Count</th>\n",
       "      <th>Total Days Identified Through Closing</th>\n",
       "      <th>Total Days Identified Through Qualified</th>\n",
       "      <th>Opportunity Amount USD</th>\n",
       "      <th>Client Size By Revenue</th>\n",
       "      <th>Client Size By Employee Count</th>\n",
       "      <th>Revenue From Client Past Two Years</th>\n",
       "      <th>Competitor Type</th>\n",
       "      <th>Ratio Days Identified To Total Days</th>\n",
       "      <th>Ratio Days Validated To Total Days</th>\n",
       "      <th>Ratio Days Qualified To Total Days</th>\n",
       "      <th>Deal Size Category</th>\n",
       "    </tr>\n",
       "  </thead>\n",
       "  <tbody>\n",
       "    <tr>\n",
       "      <th>0</th>\n",
       "      <td>1641984</td>\n",
       "      <td>Exterior Accessories</td>\n",
       "      <td>Car Accessories</td>\n",
       "      <td>Northwest</td>\n",
       "      <td>Fields Sales</td>\n",
       "      <td>76</td>\n",
       "      <td>Won</td>\n",
       "      <td>13</td>\n",
       "      <td>104</td>\n",
       "      <td>101</td>\n",
       "      <td>0</td>\n",
       "      <td>5</td>\n",
       "      <td>5</td>\n",
       "      <td>0</td>\n",
       "      <td>Unknown</td>\n",
       "      <td>0.69636</td>\n",
       "      <td>0.113985</td>\n",
       "      <td>0.154215</td>\n",
       "      <td>1</td>\n",
       "    </tr>\n",
       "    <tr>\n",
       "      <th>1</th>\n",
       "      <td>1658010</td>\n",
       "      <td>Exterior Accessories</td>\n",
       "      <td>Car Accessories</td>\n",
       "      <td>Pacific</td>\n",
       "      <td>Reseller</td>\n",
       "      <td>63</td>\n",
       "      <td>Loss</td>\n",
       "      <td>2</td>\n",
       "      <td>163</td>\n",
       "      <td>163</td>\n",
       "      <td>0</td>\n",
       "      <td>3</td>\n",
       "      <td>5</td>\n",
       "      <td>0</td>\n",
       "      <td>Unknown</td>\n",
       "      <td>0.00000</td>\n",
       "      <td>1.000000</td>\n",
       "      <td>0.000000</td>\n",
       "      <td>1</td>\n",
       "    </tr>\n",
       "    <tr>\n",
       "      <th>2</th>\n",
       "      <td>1674737</td>\n",
       "      <td>Motorcycle Parts</td>\n",
       "      <td>Performance &amp; Non-auto</td>\n",
       "      <td>Pacific</td>\n",
       "      <td>Reseller</td>\n",
       "      <td>24</td>\n",
       "      <td>Won</td>\n",
       "      <td>7</td>\n",
       "      <td>82</td>\n",
       "      <td>82</td>\n",
       "      <td>7750</td>\n",
       "      <td>1</td>\n",
       "      <td>1</td>\n",
       "      <td>0</td>\n",
       "      <td>Unknown</td>\n",
       "      <td>1.00000</td>\n",
       "      <td>0.000000</td>\n",
       "      <td>0.000000</td>\n",
       "      <td>1</td>\n",
       "    </tr>\n",
       "    <tr>\n",
       "      <th>3</th>\n",
       "      <td>1675224</td>\n",
       "      <td>Shelters &amp; RV</td>\n",
       "      <td>Performance &amp; Non-auto</td>\n",
       "      <td>Midwest</td>\n",
       "      <td>Reseller</td>\n",
       "      <td>16</td>\n",
       "      <td>Loss</td>\n",
       "      <td>5</td>\n",
       "      <td>124</td>\n",
       "      <td>124</td>\n",
       "      <td>0</td>\n",
       "      <td>1</td>\n",
       "      <td>1</td>\n",
       "      <td>0</td>\n",
       "      <td>Known</td>\n",
       "      <td>1.00000</td>\n",
       "      <td>0.000000</td>\n",
       "      <td>0.000000</td>\n",
       "      <td>1</td>\n",
       "    </tr>\n",
       "    <tr>\n",
       "      <th>4</th>\n",
       "      <td>1689785</td>\n",
       "      <td>Exterior Accessories</td>\n",
       "      <td>Car Accessories</td>\n",
       "      <td>Pacific</td>\n",
       "      <td>Reseller</td>\n",
       "      <td>69</td>\n",
       "      <td>Loss</td>\n",
       "      <td>11</td>\n",
       "      <td>91</td>\n",
       "      <td>13</td>\n",
       "      <td>69756</td>\n",
       "      <td>1</td>\n",
       "      <td>1</td>\n",
       "      <td>0</td>\n",
       "      <td>Unknown</td>\n",
       "      <td>0.00000</td>\n",
       "      <td>0.141125</td>\n",
       "      <td>0.000000</td>\n",
       "      <td>4</td>\n",
       "    </tr>\n",
       "  </tbody>\n",
       "</table>\n",
       "</div>"
      ],
      "text/plain": [
       "   Opportunity Number     Supplies Subgroup          Supplies Group  \\\n",
       "0             1641984  Exterior Accessories         Car Accessories   \n",
       "1             1658010  Exterior Accessories         Car Accessories   \n",
       "2             1674737      Motorcycle Parts  Performance & Non-auto   \n",
       "3             1675224         Shelters & RV  Performance & Non-auto   \n",
       "4             1689785  Exterior Accessories         Car Accessories   \n",
       "\n",
       "      Region Route To Market  Elapsed Days In Sales Stage Opportunity Result  \\\n",
       "0  Northwest    Fields Sales                           76                Won   \n",
       "1    Pacific        Reseller                           63               Loss   \n",
       "2    Pacific        Reseller                           24                Won   \n",
       "3    Midwest        Reseller                           16               Loss   \n",
       "4    Pacific        Reseller                           69               Loss   \n",
       "\n",
       "   Sales Stage Change Count  Total Days Identified Through Closing  \\\n",
       "0                        13                                    104   \n",
       "1                         2                                    163   \n",
       "2                         7                                     82   \n",
       "3                         5                                    124   \n",
       "4                        11                                     91   \n",
       "\n",
       "   Total Days Identified Through Qualified  Opportunity Amount USD  \\\n",
       "0                                      101                       0   \n",
       "1                                      163                       0   \n",
       "2                                       82                    7750   \n",
       "3                                      124                       0   \n",
       "4                                       13                   69756   \n",
       "\n",
       "   Client Size By Revenue  Client Size By Employee Count  \\\n",
       "0                       5                              5   \n",
       "1                       3                              5   \n",
       "2                       1                              1   \n",
       "3                       1                              1   \n",
       "4                       1                              1   \n",
       "\n",
       "   Revenue From Client Past Two Years Competitor Type  \\\n",
       "0                                   0         Unknown   \n",
       "1                                   0         Unknown   \n",
       "2                                   0         Unknown   \n",
       "3                                   0           Known   \n",
       "4                                   0         Unknown   \n",
       "\n",
       "   Ratio Days Identified To Total Days  Ratio Days Validated To Total Days  \\\n",
       "0                              0.69636                            0.113985   \n",
       "1                              0.00000                            1.000000   \n",
       "2                              1.00000                            0.000000   \n",
       "3                              1.00000                            0.000000   \n",
       "4                              0.00000                            0.141125   \n",
       "\n",
       "   Ratio Days Qualified To Total Days  Deal Size Category  \n",
       "0                            0.154215                   1  \n",
       "1                            0.000000                   1  \n",
       "2                            0.000000                   1  \n",
       "3                            0.000000                   1  \n",
       "4                            0.000000                   4  "
      ]
     },
     "execution_count": 10,
     "metadata": {},
     "output_type": "execute_result"
    }
   ],
   "source": [
    "df.head()"
   ]
  },
  {
   "cell_type": "code",
   "execution_count": 11,
   "metadata": {
    "collapsed": false
   },
   "outputs": [],
   "source": [
    "sub_df = df[['Elapsed Days In Sales Stage', 'Sales Stage Change Count','Total Days Identified Through Closing'\\\n",
    "                  ,'Total Days Identified Through Qualified','Opportunity Amount USD','Client Size By Revenue',\n",
    "                  'Client Size By Employee Count','Revenue From Client Past Two Years','Ratio Days Identified To Total Days',\n",
    "                  'Ratio Days Validated To Total Days','Ratio Days Qualified To Total Days' ]]"
   ]
  },
  {
   "cell_type": "code",
   "execution_count": 12,
   "metadata": {
    "collapsed": false
   },
   "outputs": [
    {
     "name": "stdout",
     "output_type": "stream",
     "text": [
      "<class 'pandas.core.frame.DataFrame'>\n",
      "RangeIndex: 78025 entries, 0 to 78024\n",
      "Data columns (total 11 columns):\n",
      "Elapsed Days In Sales Stage                78025 non-null int64\n",
      "Sales Stage Change Count                   78025 non-null int64\n",
      "Total Days Identified Through Closing      78025 non-null int64\n",
      "Total Days Identified Through Qualified    78025 non-null int64\n",
      "Opportunity Amount USD                     78025 non-null int64\n",
      "Client Size By Revenue                     78025 non-null int64\n",
      "Client Size By Employee Count              78025 non-null int64\n",
      "Revenue From Client Past Two Years         78025 non-null int64\n",
      "Ratio Days Identified To Total Days        78025 non-null float64\n",
      "Ratio Days Validated To Total Days         78025 non-null float64\n",
      "Ratio Days Qualified To Total Days         78025 non-null float64\n",
      "dtypes: float64(3), int64(8)\n",
      "memory usage: 6.5 MB\n"
     ]
    }
   ],
   "source": [
    "sub_df.info()"
   ]
  },
  {
   "cell_type": "code",
   "execution_count": 13,
   "metadata": {
    "collapsed": false
   },
   "outputs": [
    {
     "data": {
      "text/html": [
       "<div>\n",
       "<style>\n",
       "    .dataframe thead tr:only-child th {\n",
       "        text-align: right;\n",
       "    }\n",
       "\n",
       "    .dataframe thead th {\n",
       "        text-align: left;\n",
       "    }\n",
       "\n",
       "    .dataframe tbody tr th {\n",
       "        vertical-align: top;\n",
       "    }\n",
       "</style>\n",
       "<table border=\"1\" class=\"dataframe\">\n",
       "  <thead>\n",
       "    <tr style=\"text-align: right;\">\n",
       "      <th></th>\n",
       "      <th>Elapsed Days In Sales Stage</th>\n",
       "      <th>Sales Stage Change Count</th>\n",
       "      <th>Total Days Identified Through Closing</th>\n",
       "      <th>Total Days Identified Through Qualified</th>\n",
       "      <th>Opportunity Amount USD</th>\n",
       "      <th>Client Size By Revenue</th>\n",
       "      <th>Client Size By Employee Count</th>\n",
       "      <th>Revenue From Client Past Two Years</th>\n",
       "      <th>Ratio Days Identified To Total Days</th>\n",
       "      <th>Ratio Days Validated To Total Days</th>\n",
       "      <th>Ratio Days Qualified To Total Days</th>\n",
       "    </tr>\n",
       "  </thead>\n",
       "  <tbody>\n",
       "    <tr>\n",
       "      <th>0</th>\n",
       "      <td>76</td>\n",
       "      <td>13</td>\n",
       "      <td>104</td>\n",
       "      <td>101</td>\n",
       "      <td>0</td>\n",
       "      <td>5</td>\n",
       "      <td>5</td>\n",
       "      <td>0</td>\n",
       "      <td>0.696360</td>\n",
       "      <td>0.113985</td>\n",
       "      <td>0.154215</td>\n",
       "    </tr>\n",
       "    <tr>\n",
       "      <th>1</th>\n",
       "      <td>63</td>\n",
       "      <td>2</td>\n",
       "      <td>163</td>\n",
       "      <td>163</td>\n",
       "      <td>0</td>\n",
       "      <td>3</td>\n",
       "      <td>5</td>\n",
       "      <td>0</td>\n",
       "      <td>0.000000</td>\n",
       "      <td>1.000000</td>\n",
       "      <td>0.000000</td>\n",
       "    </tr>\n",
       "    <tr>\n",
       "      <th>2</th>\n",
       "      <td>24</td>\n",
       "      <td>7</td>\n",
       "      <td>82</td>\n",
       "      <td>82</td>\n",
       "      <td>7750</td>\n",
       "      <td>1</td>\n",
       "      <td>1</td>\n",
       "      <td>0</td>\n",
       "      <td>1.000000</td>\n",
       "      <td>0.000000</td>\n",
       "      <td>0.000000</td>\n",
       "    </tr>\n",
       "    <tr>\n",
       "      <th>3</th>\n",
       "      <td>16</td>\n",
       "      <td>5</td>\n",
       "      <td>124</td>\n",
       "      <td>124</td>\n",
       "      <td>0</td>\n",
       "      <td>1</td>\n",
       "      <td>1</td>\n",
       "      <td>0</td>\n",
       "      <td>1.000000</td>\n",
       "      <td>0.000000</td>\n",
       "      <td>0.000000</td>\n",
       "    </tr>\n",
       "    <tr>\n",
       "      <th>4</th>\n",
       "      <td>69</td>\n",
       "      <td>11</td>\n",
       "      <td>91</td>\n",
       "      <td>13</td>\n",
       "      <td>69756</td>\n",
       "      <td>1</td>\n",
       "      <td>1</td>\n",
       "      <td>0</td>\n",
       "      <td>0.000000</td>\n",
       "      <td>0.141125</td>\n",
       "      <td>0.000000</td>\n",
       "    </tr>\n",
       "    <tr>\n",
       "      <th>5</th>\n",
       "      <td>89</td>\n",
       "      <td>3</td>\n",
       "      <td>114</td>\n",
       "      <td>0</td>\n",
       "      <td>232522</td>\n",
       "      <td>5</td>\n",
       "      <td>1</td>\n",
       "      <td>0</td>\n",
       "      <td>0.000000</td>\n",
       "      <td>0.000877</td>\n",
       "      <td>0.000000</td>\n",
       "    </tr>\n",
       "    <tr>\n",
       "      <th>6</th>\n",
       "      <td>111</td>\n",
       "      <td>12</td>\n",
       "      <td>112</td>\n",
       "      <td>112</td>\n",
       "      <td>20001</td>\n",
       "      <td>4</td>\n",
       "      <td>5</td>\n",
       "      <td>0</td>\n",
       "      <td>0.308863</td>\n",
       "      <td>0.568487</td>\n",
       "      <td>0.122650</td>\n",
       "    </tr>\n",
       "    <tr>\n",
       "      <th>7</th>\n",
       "      <td>82</td>\n",
       "      <td>6</td>\n",
       "      <td>70</td>\n",
       "      <td>70</td>\n",
       "      <td>450000</td>\n",
       "      <td>1</td>\n",
       "      <td>1</td>\n",
       "      <td>0</td>\n",
       "      <td>0.263610</td>\n",
       "      <td>0.736390</td>\n",
       "      <td>0.000000</td>\n",
       "    </tr>\n",
       "    <tr>\n",
       "      <th>8</th>\n",
       "      <td>68</td>\n",
       "      <td>8</td>\n",
       "      <td>156</td>\n",
       "      <td>156</td>\n",
       "      <td>250000</td>\n",
       "      <td>1</td>\n",
       "      <td>5</td>\n",
       "      <td>0</td>\n",
       "      <td>0.000000</td>\n",
       "      <td>0.562821</td>\n",
       "      <td>0.437179</td>\n",
       "    </tr>\n",
       "    <tr>\n",
       "      <th>9</th>\n",
       "      <td>18</td>\n",
       "      <td>7</td>\n",
       "      <td>50</td>\n",
       "      <td>50</td>\n",
       "      <td>55003</td>\n",
       "      <td>1</td>\n",
       "      <td>1</td>\n",
       "      <td>0</td>\n",
       "      <td>0.000000</td>\n",
       "      <td>0.585317</td>\n",
       "      <td>0.414683</td>\n",
       "    </tr>\n",
       "    <tr>\n",
       "      <th>10</th>\n",
       "      <td>76</td>\n",
       "      <td>8</td>\n",
       "      <td>165</td>\n",
       "      <td>165</td>\n",
       "      <td>0</td>\n",
       "      <td>1</td>\n",
       "      <td>2</td>\n",
       "      <td>0</td>\n",
       "      <td>0.417729</td>\n",
       "      <td>0.235580</td>\n",
       "      <td>0.346691</td>\n",
       "    </tr>\n",
       "    <tr>\n",
       "      <th>11</th>\n",
       "      <td>87</td>\n",
       "      <td>5</td>\n",
       "      <td>142</td>\n",
       "      <td>142</td>\n",
       "      <td>400000</td>\n",
       "      <td>5</td>\n",
       "      <td>5</td>\n",
       "      <td>0</td>\n",
       "      <td>0.015482</td>\n",
       "      <td>0.370162</td>\n",
       "      <td>0.614356</td>\n",
       "    </tr>\n",
       "    <tr>\n",
       "      <th>12</th>\n",
       "      <td>35</td>\n",
       "      <td>6</td>\n",
       "      <td>31</td>\n",
       "      <td>31</td>\n",
       "      <td>10000</td>\n",
       "      <td>2</td>\n",
       "      <td>1</td>\n",
       "      <td>0</td>\n",
       "      <td>0.000000</td>\n",
       "      <td>0.167213</td>\n",
       "      <td>0.832787</td>\n",
       "    </tr>\n",
       "    <tr>\n",
       "      <th>13</th>\n",
       "      <td>16</td>\n",
       "      <td>5</td>\n",
       "      <td>208</td>\n",
       "      <td>208</td>\n",
       "      <td>232522</td>\n",
       "      <td>1</td>\n",
       "      <td>1</td>\n",
       "      <td>0</td>\n",
       "      <td>0.946076</td>\n",
       "      <td>0.053924</td>\n",
       "      <td>0.000000</td>\n",
       "    </tr>\n",
       "    <tr>\n",
       "      <th>14</th>\n",
       "      <td>81</td>\n",
       "      <td>10</td>\n",
       "      <td>138</td>\n",
       "      <td>138</td>\n",
       "      <td>200000</td>\n",
       "      <td>4</td>\n",
       "      <td>5</td>\n",
       "      <td>4</td>\n",
       "      <td>0.000000</td>\n",
       "      <td>0.730044</td>\n",
       "      <td>0.269956</td>\n",
       "    </tr>\n",
       "    <tr>\n",
       "      <th>15</th>\n",
       "      <td>79</td>\n",
       "      <td>5</td>\n",
       "      <td>32</td>\n",
       "      <td>32</td>\n",
       "      <td>0</td>\n",
       "      <td>5</td>\n",
       "      <td>1</td>\n",
       "      <td>0</td>\n",
       "      <td>0.024845</td>\n",
       "      <td>0.456522</td>\n",
       "      <td>0.518634</td>\n",
       "    </tr>\n",
       "    <tr>\n",
       "      <th>16</th>\n",
       "      <td>83</td>\n",
       "      <td>13</td>\n",
       "      <td>130</td>\n",
       "      <td>130</td>\n",
       "      <td>60000</td>\n",
       "      <td>4</td>\n",
       "      <td>3</td>\n",
       "      <td>0</td>\n",
       "      <td>0.121820</td>\n",
       "      <td>0.558982</td>\n",
       "      <td>0.319198</td>\n",
       "    </tr>\n",
       "    <tr>\n",
       "      <th>17</th>\n",
       "      <td>65</td>\n",
       "      <td>17</td>\n",
       "      <td>150</td>\n",
       "      <td>150</td>\n",
       "      <td>250009</td>\n",
       "      <td>5</td>\n",
       "      <td>5</td>\n",
       "      <td>0</td>\n",
       "      <td>0.068182</td>\n",
       "      <td>0.625000</td>\n",
       "      <td>0.306818</td>\n",
       "    </tr>\n",
       "    <tr>\n",
       "      <th>18</th>\n",
       "      <td>91</td>\n",
       "      <td>6</td>\n",
       "      <td>103</td>\n",
       "      <td>103</td>\n",
       "      <td>500000</td>\n",
       "      <td>1</td>\n",
       "      <td>3</td>\n",
       "      <td>0</td>\n",
       "      <td>0.000000</td>\n",
       "      <td>1.000000</td>\n",
       "      <td>0.000000</td>\n",
       "    </tr>\n",
       "    <tr>\n",
       "      <th>19</th>\n",
       "      <td>65</td>\n",
       "      <td>13</td>\n",
       "      <td>125</td>\n",
       "      <td>125</td>\n",
       "      <td>100000</td>\n",
       "      <td>1</td>\n",
       "      <td>5</td>\n",
       "      <td>0</td>\n",
       "      <td>0.029695</td>\n",
       "      <td>0.128411</td>\n",
       "      <td>0.841894</td>\n",
       "    </tr>\n",
       "    <tr>\n",
       "      <th>20</th>\n",
       "      <td>89</td>\n",
       "      <td>7</td>\n",
       "      <td>60</td>\n",
       "      <td>60</td>\n",
       "      <td>150000</td>\n",
       "      <td>5</td>\n",
       "      <td>4</td>\n",
       "      <td>0</td>\n",
       "      <td>0.313433</td>\n",
       "      <td>0.686567</td>\n",
       "      <td>0.000000</td>\n",
       "    </tr>\n",
       "    <tr>\n",
       "      <th>21</th>\n",
       "      <td>62</td>\n",
       "      <td>14</td>\n",
       "      <td>88</td>\n",
       "      <td>87</td>\n",
       "      <td>210000</td>\n",
       "      <td>5</td>\n",
       "      <td>3</td>\n",
       "      <td>0</td>\n",
       "      <td>0.041096</td>\n",
       "      <td>0.837900</td>\n",
       "      <td>0.117580</td>\n",
       "    </tr>\n",
       "    <tr>\n",
       "      <th>22</th>\n",
       "      <td>16</td>\n",
       "      <td>8</td>\n",
       "      <td>169</td>\n",
       "      <td>169</td>\n",
       "      <td>3000</td>\n",
       "      <td>3</td>\n",
       "      <td>2</td>\n",
       "      <td>0</td>\n",
       "      <td>0.189125</td>\n",
       "      <td>0.810875</td>\n",
       "      <td>0.000000</td>\n",
       "    </tr>\n",
       "    <tr>\n",
       "      <th>23</th>\n",
       "      <td>83</td>\n",
       "      <td>7</td>\n",
       "      <td>90</td>\n",
       "      <td>48</td>\n",
       "      <td>80000</td>\n",
       "      <td>3</td>\n",
       "      <td>5</td>\n",
       "      <td>0</td>\n",
       "      <td>0.000000</td>\n",
       "      <td>0.403352</td>\n",
       "      <td>0.134078</td>\n",
       "    </tr>\n",
       "    <tr>\n",
       "      <th>24</th>\n",
       "      <td>73</td>\n",
       "      <td>9</td>\n",
       "      <td>127</td>\n",
       "      <td>127</td>\n",
       "      <td>40721</td>\n",
       "      <td>1</td>\n",
       "      <td>1</td>\n",
       "      <td>1</td>\n",
       "      <td>0.403467</td>\n",
       "      <td>0.438140</td>\n",
       "      <td>0.158392</td>\n",
       "    </tr>\n",
       "    <tr>\n",
       "      <th>25</th>\n",
       "      <td>76</td>\n",
       "      <td>8</td>\n",
       "      <td>133</td>\n",
       "      <td>133</td>\n",
       "      <td>64000</td>\n",
       "      <td>1</td>\n",
       "      <td>4</td>\n",
       "      <td>0</td>\n",
       "      <td>0.141679</td>\n",
       "      <td>0.344828</td>\n",
       "      <td>0.513493</td>\n",
       "    </tr>\n",
       "    <tr>\n",
       "      <th>26</th>\n",
       "      <td>86</td>\n",
       "      <td>2</td>\n",
       "      <td>119</td>\n",
       "      <td>119</td>\n",
       "      <td>51000</td>\n",
       "      <td>1</td>\n",
       "      <td>3</td>\n",
       "      <td>0</td>\n",
       "      <td>1.000000</td>\n",
       "      <td>0.000000</td>\n",
       "      <td>0.000000</td>\n",
       "    </tr>\n",
       "    <tr>\n",
       "      <th>27</th>\n",
       "      <td>60</td>\n",
       "      <td>8</td>\n",
       "      <td>101</td>\n",
       "      <td>101</td>\n",
       "      <td>50000</td>\n",
       "      <td>5</td>\n",
       "      <td>3</td>\n",
       "      <td>0</td>\n",
       "      <td>0.740631</td>\n",
       "      <td>0.089744</td>\n",
       "      <td>0.169625</td>\n",
       "    </tr>\n",
       "    <tr>\n",
       "      <th>28</th>\n",
       "      <td>72</td>\n",
       "      <td>9</td>\n",
       "      <td>123</td>\n",
       "      <td>123</td>\n",
       "      <td>500000</td>\n",
       "      <td>1</td>\n",
       "      <td>5</td>\n",
       "      <td>0</td>\n",
       "      <td>0.381729</td>\n",
       "      <td>0.401305</td>\n",
       "      <td>0.216966</td>\n",
       "    </tr>\n",
       "    <tr>\n",
       "      <th>29</th>\n",
       "      <td>44</td>\n",
       "      <td>4</td>\n",
       "      <td>9</td>\n",
       "      <td>9</td>\n",
       "      <td>35812</td>\n",
       "      <td>1</td>\n",
       "      <td>3</td>\n",
       "      <td>2</td>\n",
       "      <td>0.000000</td>\n",
       "      <td>0.000000</td>\n",
       "      <td>1.000000</td>\n",
       "    </tr>\n",
       "    <tr>\n",
       "      <th>...</th>\n",
       "      <td>...</td>\n",
       "      <td>...</td>\n",
       "      <td>...</td>\n",
       "      <td>...</td>\n",
       "      <td>...</td>\n",
       "      <td>...</td>\n",
       "      <td>...</td>\n",
       "      <td>...</td>\n",
       "      <td>...</td>\n",
       "      <td>...</td>\n",
       "      <td>...</td>\n",
       "    </tr>\n",
       "    <tr>\n",
       "      <th>77995</th>\n",
       "      <td>1</td>\n",
       "      <td>2</td>\n",
       "      <td>0</td>\n",
       "      <td>0</td>\n",
       "      <td>150000</td>\n",
       "      <td>1</td>\n",
       "      <td>1</td>\n",
       "      <td>0</td>\n",
       "      <td>0.000000</td>\n",
       "      <td>0.000000</td>\n",
       "      <td>0.000000</td>\n",
       "    </tr>\n",
       "    <tr>\n",
       "      <th>77996</th>\n",
       "      <td>0</td>\n",
       "      <td>3</td>\n",
       "      <td>1</td>\n",
       "      <td>1</td>\n",
       "      <td>94945</td>\n",
       "      <td>1</td>\n",
       "      <td>1</td>\n",
       "      <td>1</td>\n",
       "      <td>0.000000</td>\n",
       "      <td>0.166667</td>\n",
       "      <td>0.833333</td>\n",
       "    </tr>\n",
       "    <tr>\n",
       "      <th>77997</th>\n",
       "      <td>0</td>\n",
       "      <td>3</td>\n",
       "      <td>1</td>\n",
       "      <td>1</td>\n",
       "      <td>19014</td>\n",
       "      <td>1</td>\n",
       "      <td>1</td>\n",
       "      <td>2</td>\n",
       "      <td>0.000000</td>\n",
       "      <td>0.000000</td>\n",
       "      <td>1.000000</td>\n",
       "    </tr>\n",
       "    <tr>\n",
       "      <th>77998</th>\n",
       "      <td>1</td>\n",
       "      <td>1</td>\n",
       "      <td>0</td>\n",
       "      <td>0</td>\n",
       "      <td>30000</td>\n",
       "      <td>1</td>\n",
       "      <td>1</td>\n",
       "      <td>0</td>\n",
       "      <td>0.000000</td>\n",
       "      <td>0.000000</td>\n",
       "      <td>0.000000</td>\n",
       "    </tr>\n",
       "    <tr>\n",
       "      <th>77999</th>\n",
       "      <td>0</td>\n",
       "      <td>3</td>\n",
       "      <td>1</td>\n",
       "      <td>1</td>\n",
       "      <td>18000</td>\n",
       "      <td>1</td>\n",
       "      <td>1</td>\n",
       "      <td>0</td>\n",
       "      <td>0.000000</td>\n",
       "      <td>1.000000</td>\n",
       "      <td>0.000000</td>\n",
       "    </tr>\n",
       "    <tr>\n",
       "      <th>78000</th>\n",
       "      <td>0</td>\n",
       "      <td>3</td>\n",
       "      <td>1</td>\n",
       "      <td>1</td>\n",
       "      <td>150000</td>\n",
       "      <td>1</td>\n",
       "      <td>1</td>\n",
       "      <td>0</td>\n",
       "      <td>0.000000</td>\n",
       "      <td>1.000000</td>\n",
       "      <td>0.000000</td>\n",
       "    </tr>\n",
       "    <tr>\n",
       "      <th>78001</th>\n",
       "      <td>0</td>\n",
       "      <td>2</td>\n",
       "      <td>0</td>\n",
       "      <td>0</td>\n",
       "      <td>95000</td>\n",
       "      <td>1</td>\n",
       "      <td>1</td>\n",
       "      <td>0</td>\n",
       "      <td>0.000000</td>\n",
       "      <td>1.000000</td>\n",
       "      <td>0.000000</td>\n",
       "    </tr>\n",
       "    <tr>\n",
       "      <th>78002</th>\n",
       "      <td>1</td>\n",
       "      <td>2</td>\n",
       "      <td>0</td>\n",
       "      <td>0</td>\n",
       "      <td>56363</td>\n",
       "      <td>1</td>\n",
       "      <td>1</td>\n",
       "      <td>0</td>\n",
       "      <td>0.000000</td>\n",
       "      <td>0.000000</td>\n",
       "      <td>0.000000</td>\n",
       "    </tr>\n",
       "    <tr>\n",
       "      <th>78003</th>\n",
       "      <td>1</td>\n",
       "      <td>2</td>\n",
       "      <td>0</td>\n",
       "      <td>0</td>\n",
       "      <td>68</td>\n",
       "      <td>1</td>\n",
       "      <td>1</td>\n",
       "      <td>0</td>\n",
       "      <td>0.000000</td>\n",
       "      <td>1.000000</td>\n",
       "      <td>0.000000</td>\n",
       "    </tr>\n",
       "    <tr>\n",
       "      <th>78004</th>\n",
       "      <td>1</td>\n",
       "      <td>2</td>\n",
       "      <td>0</td>\n",
       "      <td>0</td>\n",
       "      <td>45</td>\n",
       "      <td>1</td>\n",
       "      <td>1</td>\n",
       "      <td>1</td>\n",
       "      <td>0.000000</td>\n",
       "      <td>1.000000</td>\n",
       "      <td>0.000000</td>\n",
       "    </tr>\n",
       "    <tr>\n",
       "      <th>78005</th>\n",
       "      <td>1</td>\n",
       "      <td>2</td>\n",
       "      <td>0</td>\n",
       "      <td>0</td>\n",
       "      <td>200000</td>\n",
       "      <td>1</td>\n",
       "      <td>1</td>\n",
       "      <td>0</td>\n",
       "      <td>0.000000</td>\n",
       "      <td>0.000000</td>\n",
       "      <td>0.000000</td>\n",
       "    </tr>\n",
       "    <tr>\n",
       "      <th>78006</th>\n",
       "      <td>1</td>\n",
       "      <td>1</td>\n",
       "      <td>0</td>\n",
       "      <td>0</td>\n",
       "      <td>1700</td>\n",
       "      <td>1</td>\n",
       "      <td>1</td>\n",
       "      <td>0</td>\n",
       "      <td>0.000000</td>\n",
       "      <td>0.000000</td>\n",
       "      <td>0.000000</td>\n",
       "    </tr>\n",
       "    <tr>\n",
       "      <th>78007</th>\n",
       "      <td>0</td>\n",
       "      <td>2</td>\n",
       "      <td>0</td>\n",
       "      <td>0</td>\n",
       "      <td>90000</td>\n",
       "      <td>1</td>\n",
       "      <td>1</td>\n",
       "      <td>1</td>\n",
       "      <td>0.000000</td>\n",
       "      <td>0.000000</td>\n",
       "      <td>1.000000</td>\n",
       "    </tr>\n",
       "    <tr>\n",
       "      <th>78008</th>\n",
       "      <td>0</td>\n",
       "      <td>2</td>\n",
       "      <td>0</td>\n",
       "      <td>0</td>\n",
       "      <td>17000</td>\n",
       "      <td>1</td>\n",
       "      <td>1</td>\n",
       "      <td>0</td>\n",
       "      <td>0.000000</td>\n",
       "      <td>0.000000</td>\n",
       "      <td>1.000000</td>\n",
       "    </tr>\n",
       "    <tr>\n",
       "      <th>78009</th>\n",
       "      <td>0</td>\n",
       "      <td>1</td>\n",
       "      <td>0</td>\n",
       "      <td>0</td>\n",
       "      <td>100000</td>\n",
       "      <td>1</td>\n",
       "      <td>1</td>\n",
       "      <td>0</td>\n",
       "      <td>0.000000</td>\n",
       "      <td>0.000000</td>\n",
       "      <td>0.000000</td>\n",
       "    </tr>\n",
       "    <tr>\n",
       "      <th>78010</th>\n",
       "      <td>0</td>\n",
       "      <td>1</td>\n",
       "      <td>0</td>\n",
       "      <td>0</td>\n",
       "      <td>100</td>\n",
       "      <td>1</td>\n",
       "      <td>1</td>\n",
       "      <td>0</td>\n",
       "      <td>0.000000</td>\n",
       "      <td>0.000000</td>\n",
       "      <td>0.000000</td>\n",
       "    </tr>\n",
       "    <tr>\n",
       "      <th>78011</th>\n",
       "      <td>0</td>\n",
       "      <td>2</td>\n",
       "      <td>0</td>\n",
       "      <td>0</td>\n",
       "      <td>40000</td>\n",
       "      <td>1</td>\n",
       "      <td>1</td>\n",
       "      <td>0</td>\n",
       "      <td>0.000000</td>\n",
       "      <td>1.000000</td>\n",
       "      <td>0.000000</td>\n",
       "    </tr>\n",
       "    <tr>\n",
       "      <th>78012</th>\n",
       "      <td>0</td>\n",
       "      <td>2</td>\n",
       "      <td>0</td>\n",
       "      <td>0</td>\n",
       "      <td>59000</td>\n",
       "      <td>1</td>\n",
       "      <td>1</td>\n",
       "      <td>0</td>\n",
       "      <td>0.000000</td>\n",
       "      <td>0.000000</td>\n",
       "      <td>0.000000</td>\n",
       "    </tr>\n",
       "    <tr>\n",
       "      <th>78013</th>\n",
       "      <td>0</td>\n",
       "      <td>1</td>\n",
       "      <td>0</td>\n",
       "      <td>0</td>\n",
       "      <td>17000</td>\n",
       "      <td>1</td>\n",
       "      <td>1</td>\n",
       "      <td>0</td>\n",
       "      <td>0.000000</td>\n",
       "      <td>0.000000</td>\n",
       "      <td>0.000000</td>\n",
       "    </tr>\n",
       "    <tr>\n",
       "      <th>78014</th>\n",
       "      <td>0</td>\n",
       "      <td>1</td>\n",
       "      <td>0</td>\n",
       "      <td>0</td>\n",
       "      <td>12000</td>\n",
       "      <td>1</td>\n",
       "      <td>1</td>\n",
       "      <td>0</td>\n",
       "      <td>0.000000</td>\n",
       "      <td>0.000000</td>\n",
       "      <td>0.000000</td>\n",
       "    </tr>\n",
       "    <tr>\n",
       "      <th>78015</th>\n",
       "      <td>0</td>\n",
       "      <td>1</td>\n",
       "      <td>0</td>\n",
       "      <td>0</td>\n",
       "      <td>291</td>\n",
       "      <td>1</td>\n",
       "      <td>1</td>\n",
       "      <td>0</td>\n",
       "      <td>0.000000</td>\n",
       "      <td>0.000000</td>\n",
       "      <td>0.000000</td>\n",
       "    </tr>\n",
       "    <tr>\n",
       "      <th>78016</th>\n",
       "      <td>0</td>\n",
       "      <td>1</td>\n",
       "      <td>0</td>\n",
       "      <td>0</td>\n",
       "      <td>5376</td>\n",
       "      <td>1</td>\n",
       "      <td>1</td>\n",
       "      <td>0</td>\n",
       "      <td>0.000000</td>\n",
       "      <td>0.000000</td>\n",
       "      <td>0.000000</td>\n",
       "    </tr>\n",
       "    <tr>\n",
       "      <th>78017</th>\n",
       "      <td>0</td>\n",
       "      <td>1</td>\n",
       "      <td>0</td>\n",
       "      <td>0</td>\n",
       "      <td>57982</td>\n",
       "      <td>1</td>\n",
       "      <td>1</td>\n",
       "      <td>0</td>\n",
       "      <td>0.000000</td>\n",
       "      <td>0.000000</td>\n",
       "      <td>0.000000</td>\n",
       "    </tr>\n",
       "    <tr>\n",
       "      <th>78018</th>\n",
       "      <td>0</td>\n",
       "      <td>1</td>\n",
       "      <td>0</td>\n",
       "      <td>0</td>\n",
       "      <td>18000</td>\n",
       "      <td>1</td>\n",
       "      <td>1</td>\n",
       "      <td>0</td>\n",
       "      <td>0.000000</td>\n",
       "      <td>0.000000</td>\n",
       "      <td>0.000000</td>\n",
       "    </tr>\n",
       "    <tr>\n",
       "      <th>78019</th>\n",
       "      <td>0</td>\n",
       "      <td>1</td>\n",
       "      <td>0</td>\n",
       "      <td>0</td>\n",
       "      <td>22000</td>\n",
       "      <td>1</td>\n",
       "      <td>1</td>\n",
       "      <td>3</td>\n",
       "      <td>0.000000</td>\n",
       "      <td>0.000000</td>\n",
       "      <td>0.000000</td>\n",
       "    </tr>\n",
       "    <tr>\n",
       "      <th>78020</th>\n",
       "      <td>0</td>\n",
       "      <td>2</td>\n",
       "      <td>0</td>\n",
       "      <td>0</td>\n",
       "      <td>250000</td>\n",
       "      <td>1</td>\n",
       "      <td>1</td>\n",
       "      <td>3</td>\n",
       "      <td>0.000000</td>\n",
       "      <td>0.000000</td>\n",
       "      <td>0.000000</td>\n",
       "    </tr>\n",
       "    <tr>\n",
       "      <th>78021</th>\n",
       "      <td>0</td>\n",
       "      <td>1</td>\n",
       "      <td>0</td>\n",
       "      <td>0</td>\n",
       "      <td>180000</td>\n",
       "      <td>1</td>\n",
       "      <td>1</td>\n",
       "      <td>0</td>\n",
       "      <td>0.000000</td>\n",
       "      <td>0.000000</td>\n",
       "      <td>0.000000</td>\n",
       "    </tr>\n",
       "    <tr>\n",
       "      <th>78022</th>\n",
       "      <td>0</td>\n",
       "      <td>2</td>\n",
       "      <td>0</td>\n",
       "      <td>0</td>\n",
       "      <td>90000</td>\n",
       "      <td>1</td>\n",
       "      <td>1</td>\n",
       "      <td>0</td>\n",
       "      <td>0.000000</td>\n",
       "      <td>0.000000</td>\n",
       "      <td>0.000000</td>\n",
       "    </tr>\n",
       "    <tr>\n",
       "      <th>78023</th>\n",
       "      <td>0</td>\n",
       "      <td>2</td>\n",
       "      <td>0</td>\n",
       "      <td>0</td>\n",
       "      <td>120000</td>\n",
       "      <td>1</td>\n",
       "      <td>1</td>\n",
       "      <td>0</td>\n",
       "      <td>1.000000</td>\n",
       "      <td>0.000000</td>\n",
       "      <td>0.000000</td>\n",
       "    </tr>\n",
       "    <tr>\n",
       "      <th>78024</th>\n",
       "      <td>0</td>\n",
       "      <td>1</td>\n",
       "      <td>0</td>\n",
       "      <td>0</td>\n",
       "      <td>90000</td>\n",
       "      <td>1</td>\n",
       "      <td>1</td>\n",
       "      <td>0</td>\n",
       "      <td>0.000000</td>\n",
       "      <td>0.000000</td>\n",
       "      <td>0.000000</td>\n",
       "    </tr>\n",
       "  </tbody>\n",
       "</table>\n",
       "<p>78025 rows × 11 columns</p>\n",
       "</div>"
      ],
      "text/plain": [
       "       Elapsed Days In Sales Stage  Sales Stage Change Count  \\\n",
       "0                               76                        13   \n",
       "1                               63                         2   \n",
       "2                               24                         7   \n",
       "3                               16                         5   \n",
       "4                               69                        11   \n",
       "5                               89                         3   \n",
       "6                              111                        12   \n",
       "7                               82                         6   \n",
       "8                               68                         8   \n",
       "9                               18                         7   \n",
       "10                              76                         8   \n",
       "11                              87                         5   \n",
       "12                              35                         6   \n",
       "13                              16                         5   \n",
       "14                              81                        10   \n",
       "15                              79                         5   \n",
       "16                              83                        13   \n",
       "17                              65                        17   \n",
       "18                              91                         6   \n",
       "19                              65                        13   \n",
       "20                              89                         7   \n",
       "21                              62                        14   \n",
       "22                              16                         8   \n",
       "23                              83                         7   \n",
       "24                              73                         9   \n",
       "25                              76                         8   \n",
       "26                              86                         2   \n",
       "27                              60                         8   \n",
       "28                              72                         9   \n",
       "29                              44                         4   \n",
       "...                            ...                       ...   \n",
       "77995                            1                         2   \n",
       "77996                            0                         3   \n",
       "77997                            0                         3   \n",
       "77998                            1                         1   \n",
       "77999                            0                         3   \n",
       "78000                            0                         3   \n",
       "78001                            0                         2   \n",
       "78002                            1                         2   \n",
       "78003                            1                         2   \n",
       "78004                            1                         2   \n",
       "78005                            1                         2   \n",
       "78006                            1                         1   \n",
       "78007                            0                         2   \n",
       "78008                            0                         2   \n",
       "78009                            0                         1   \n",
       "78010                            0                         1   \n",
       "78011                            0                         2   \n",
       "78012                            0                         2   \n",
       "78013                            0                         1   \n",
       "78014                            0                         1   \n",
       "78015                            0                         1   \n",
       "78016                            0                         1   \n",
       "78017                            0                         1   \n",
       "78018                            0                         1   \n",
       "78019                            0                         1   \n",
       "78020                            0                         2   \n",
       "78021                            0                         1   \n",
       "78022                            0                         2   \n",
       "78023                            0                         2   \n",
       "78024                            0                         1   \n",
       "\n",
       "       Total Days Identified Through Closing  \\\n",
       "0                                        104   \n",
       "1                                        163   \n",
       "2                                         82   \n",
       "3                                        124   \n",
       "4                                         91   \n",
       "5                                        114   \n",
       "6                                        112   \n",
       "7                                         70   \n",
       "8                                        156   \n",
       "9                                         50   \n",
       "10                                       165   \n",
       "11                                       142   \n",
       "12                                        31   \n",
       "13                                       208   \n",
       "14                                       138   \n",
       "15                                        32   \n",
       "16                                       130   \n",
       "17                                       150   \n",
       "18                                       103   \n",
       "19                                       125   \n",
       "20                                        60   \n",
       "21                                        88   \n",
       "22                                       169   \n",
       "23                                        90   \n",
       "24                                       127   \n",
       "25                                       133   \n",
       "26                                       119   \n",
       "27                                       101   \n",
       "28                                       123   \n",
       "29                                         9   \n",
       "...                                      ...   \n",
       "77995                                      0   \n",
       "77996                                      1   \n",
       "77997                                      1   \n",
       "77998                                      0   \n",
       "77999                                      1   \n",
       "78000                                      1   \n",
       "78001                                      0   \n",
       "78002                                      0   \n",
       "78003                                      0   \n",
       "78004                                      0   \n",
       "78005                                      0   \n",
       "78006                                      0   \n",
       "78007                                      0   \n",
       "78008                                      0   \n",
       "78009                                      0   \n",
       "78010                                      0   \n",
       "78011                                      0   \n",
       "78012                                      0   \n",
       "78013                                      0   \n",
       "78014                                      0   \n",
       "78015                                      0   \n",
       "78016                                      0   \n",
       "78017                                      0   \n",
       "78018                                      0   \n",
       "78019                                      0   \n",
       "78020                                      0   \n",
       "78021                                      0   \n",
       "78022                                      0   \n",
       "78023                                      0   \n",
       "78024                                      0   \n",
       "\n",
       "       Total Days Identified Through Qualified  Opportunity Amount USD  \\\n",
       "0                                          101                       0   \n",
       "1                                          163                       0   \n",
       "2                                           82                    7750   \n",
       "3                                          124                       0   \n",
       "4                                           13                   69756   \n",
       "5                                            0                  232522   \n",
       "6                                          112                   20001   \n",
       "7                                           70                  450000   \n",
       "8                                          156                  250000   \n",
       "9                                           50                   55003   \n",
       "10                                         165                       0   \n",
       "11                                         142                  400000   \n",
       "12                                          31                   10000   \n",
       "13                                         208                  232522   \n",
       "14                                         138                  200000   \n",
       "15                                          32                       0   \n",
       "16                                         130                   60000   \n",
       "17                                         150                  250009   \n",
       "18                                         103                  500000   \n",
       "19                                         125                  100000   \n",
       "20                                          60                  150000   \n",
       "21                                          87                  210000   \n",
       "22                                         169                    3000   \n",
       "23                                          48                   80000   \n",
       "24                                         127                   40721   \n",
       "25                                         133                   64000   \n",
       "26                                         119                   51000   \n",
       "27                                         101                   50000   \n",
       "28                                         123                  500000   \n",
       "29                                           9                   35812   \n",
       "...                                        ...                     ...   \n",
       "77995                                        0                  150000   \n",
       "77996                                        1                   94945   \n",
       "77997                                        1                   19014   \n",
       "77998                                        0                   30000   \n",
       "77999                                        1                   18000   \n",
       "78000                                        1                  150000   \n",
       "78001                                        0                   95000   \n",
       "78002                                        0                   56363   \n",
       "78003                                        0                      68   \n",
       "78004                                        0                      45   \n",
       "78005                                        0                  200000   \n",
       "78006                                        0                    1700   \n",
       "78007                                        0                   90000   \n",
       "78008                                        0                   17000   \n",
       "78009                                        0                  100000   \n",
       "78010                                        0                     100   \n",
       "78011                                        0                   40000   \n",
       "78012                                        0                   59000   \n",
       "78013                                        0                   17000   \n",
       "78014                                        0                   12000   \n",
       "78015                                        0                     291   \n",
       "78016                                        0                    5376   \n",
       "78017                                        0                   57982   \n",
       "78018                                        0                   18000   \n",
       "78019                                        0                   22000   \n",
       "78020                                        0                  250000   \n",
       "78021                                        0                  180000   \n",
       "78022                                        0                   90000   \n",
       "78023                                        0                  120000   \n",
       "78024                                        0                   90000   \n",
       "\n",
       "       Client Size By Revenue  Client Size By Employee Count  \\\n",
       "0                           5                              5   \n",
       "1                           3                              5   \n",
       "2                           1                              1   \n",
       "3                           1                              1   \n",
       "4                           1                              1   \n",
       "5                           5                              1   \n",
       "6                           4                              5   \n",
       "7                           1                              1   \n",
       "8                           1                              5   \n",
       "9                           1                              1   \n",
       "10                          1                              2   \n",
       "11                          5                              5   \n",
       "12                          2                              1   \n",
       "13                          1                              1   \n",
       "14                          4                              5   \n",
       "15                          5                              1   \n",
       "16                          4                              3   \n",
       "17                          5                              5   \n",
       "18                          1                              3   \n",
       "19                          1                              5   \n",
       "20                          5                              4   \n",
       "21                          5                              3   \n",
       "22                          3                              2   \n",
       "23                          3                              5   \n",
       "24                          1                              1   \n",
       "25                          1                              4   \n",
       "26                          1                              3   \n",
       "27                          5                              3   \n",
       "28                          1                              5   \n",
       "29                          1                              3   \n",
       "...                       ...                            ...   \n",
       "77995                       1                              1   \n",
       "77996                       1                              1   \n",
       "77997                       1                              1   \n",
       "77998                       1                              1   \n",
       "77999                       1                              1   \n",
       "78000                       1                              1   \n",
       "78001                       1                              1   \n",
       "78002                       1                              1   \n",
       "78003                       1                              1   \n",
       "78004                       1                              1   \n",
       "78005                       1                              1   \n",
       "78006                       1                              1   \n",
       "78007                       1                              1   \n",
       "78008                       1                              1   \n",
       "78009                       1                              1   \n",
       "78010                       1                              1   \n",
       "78011                       1                              1   \n",
       "78012                       1                              1   \n",
       "78013                       1                              1   \n",
       "78014                       1                              1   \n",
       "78015                       1                              1   \n",
       "78016                       1                              1   \n",
       "78017                       1                              1   \n",
       "78018                       1                              1   \n",
       "78019                       1                              1   \n",
       "78020                       1                              1   \n",
       "78021                       1                              1   \n",
       "78022                       1                              1   \n",
       "78023                       1                              1   \n",
       "78024                       1                              1   \n",
       "\n",
       "       Revenue From Client Past Two Years  \\\n",
       "0                                       0   \n",
       "1                                       0   \n",
       "2                                       0   \n",
       "3                                       0   \n",
       "4                                       0   \n",
       "5                                       0   \n",
       "6                                       0   \n",
       "7                                       0   \n",
       "8                                       0   \n",
       "9                                       0   \n",
       "10                                      0   \n",
       "11                                      0   \n",
       "12                                      0   \n",
       "13                                      0   \n",
       "14                                      4   \n",
       "15                                      0   \n",
       "16                                      0   \n",
       "17                                      0   \n",
       "18                                      0   \n",
       "19                                      0   \n",
       "20                                      0   \n",
       "21                                      0   \n",
       "22                                      0   \n",
       "23                                      0   \n",
       "24                                      1   \n",
       "25                                      0   \n",
       "26                                      0   \n",
       "27                                      0   \n",
       "28                                      0   \n",
       "29                                      2   \n",
       "...                                   ...   \n",
       "77995                                   0   \n",
       "77996                                   1   \n",
       "77997                                   2   \n",
       "77998                                   0   \n",
       "77999                                   0   \n",
       "78000                                   0   \n",
       "78001                                   0   \n",
       "78002                                   0   \n",
       "78003                                   0   \n",
       "78004                                   1   \n",
       "78005                                   0   \n",
       "78006                                   0   \n",
       "78007                                   1   \n",
       "78008                                   0   \n",
       "78009                                   0   \n",
       "78010                                   0   \n",
       "78011                                   0   \n",
       "78012                                   0   \n",
       "78013                                   0   \n",
       "78014                                   0   \n",
       "78015                                   0   \n",
       "78016                                   0   \n",
       "78017                                   0   \n",
       "78018                                   0   \n",
       "78019                                   3   \n",
       "78020                                   3   \n",
       "78021                                   0   \n",
       "78022                                   0   \n",
       "78023                                   0   \n",
       "78024                                   0   \n",
       "\n",
       "       Ratio Days Identified To Total Days  \\\n",
       "0                                 0.696360   \n",
       "1                                 0.000000   \n",
       "2                                 1.000000   \n",
       "3                                 1.000000   \n",
       "4                                 0.000000   \n",
       "5                                 0.000000   \n",
       "6                                 0.308863   \n",
       "7                                 0.263610   \n",
       "8                                 0.000000   \n",
       "9                                 0.000000   \n",
       "10                                0.417729   \n",
       "11                                0.015482   \n",
       "12                                0.000000   \n",
       "13                                0.946076   \n",
       "14                                0.000000   \n",
       "15                                0.024845   \n",
       "16                                0.121820   \n",
       "17                                0.068182   \n",
       "18                                0.000000   \n",
       "19                                0.029695   \n",
       "20                                0.313433   \n",
       "21                                0.041096   \n",
       "22                                0.189125   \n",
       "23                                0.000000   \n",
       "24                                0.403467   \n",
       "25                                0.141679   \n",
       "26                                1.000000   \n",
       "27                                0.740631   \n",
       "28                                0.381729   \n",
       "29                                0.000000   \n",
       "...                                    ...   \n",
       "77995                             0.000000   \n",
       "77996                             0.000000   \n",
       "77997                             0.000000   \n",
       "77998                             0.000000   \n",
       "77999                             0.000000   \n",
       "78000                             0.000000   \n",
       "78001                             0.000000   \n",
       "78002                             0.000000   \n",
       "78003                             0.000000   \n",
       "78004                             0.000000   \n",
       "78005                             0.000000   \n",
       "78006                             0.000000   \n",
       "78007                             0.000000   \n",
       "78008                             0.000000   \n",
       "78009                             0.000000   \n",
       "78010                             0.000000   \n",
       "78011                             0.000000   \n",
       "78012                             0.000000   \n",
       "78013                             0.000000   \n",
       "78014                             0.000000   \n",
       "78015                             0.000000   \n",
       "78016                             0.000000   \n",
       "78017                             0.000000   \n",
       "78018                             0.000000   \n",
       "78019                             0.000000   \n",
       "78020                             0.000000   \n",
       "78021                             0.000000   \n",
       "78022                             0.000000   \n",
       "78023                             1.000000   \n",
       "78024                             0.000000   \n",
       "\n",
       "       Ratio Days Validated To Total Days  Ratio Days Qualified To Total Days  \n",
       "0                                0.113985                            0.154215  \n",
       "1                                1.000000                            0.000000  \n",
       "2                                0.000000                            0.000000  \n",
       "3                                0.000000                            0.000000  \n",
       "4                                0.141125                            0.000000  \n",
       "5                                0.000877                            0.000000  \n",
       "6                                0.568487                            0.122650  \n",
       "7                                0.736390                            0.000000  \n",
       "8                                0.562821                            0.437179  \n",
       "9                                0.585317                            0.414683  \n",
       "10                               0.235580                            0.346691  \n",
       "11                               0.370162                            0.614356  \n",
       "12                               0.167213                            0.832787  \n",
       "13                               0.053924                            0.000000  \n",
       "14                               0.730044                            0.269956  \n",
       "15                               0.456522                            0.518634  \n",
       "16                               0.558982                            0.319198  \n",
       "17                               0.625000                            0.306818  \n",
       "18                               1.000000                            0.000000  \n",
       "19                               0.128411                            0.841894  \n",
       "20                               0.686567                            0.000000  \n",
       "21                               0.837900                            0.117580  \n",
       "22                               0.810875                            0.000000  \n",
       "23                               0.403352                            0.134078  \n",
       "24                               0.438140                            0.158392  \n",
       "25                               0.344828                            0.513493  \n",
       "26                               0.000000                            0.000000  \n",
       "27                               0.089744                            0.169625  \n",
       "28                               0.401305                            0.216966  \n",
       "29                               0.000000                            1.000000  \n",
       "...                                   ...                                 ...  \n",
       "77995                            0.000000                            0.000000  \n",
       "77996                            0.166667                            0.833333  \n",
       "77997                            0.000000                            1.000000  \n",
       "77998                            0.000000                            0.000000  \n",
       "77999                            1.000000                            0.000000  \n",
       "78000                            1.000000                            0.000000  \n",
       "78001                            1.000000                            0.000000  \n",
       "78002                            0.000000                            0.000000  \n",
       "78003                            1.000000                            0.000000  \n",
       "78004                            1.000000                            0.000000  \n",
       "78005                            0.000000                            0.000000  \n",
       "78006                            0.000000                            0.000000  \n",
       "78007                            0.000000                            1.000000  \n",
       "78008                            0.000000                            1.000000  \n",
       "78009                            0.000000                            0.000000  \n",
       "78010                            0.000000                            0.000000  \n",
       "78011                            1.000000                            0.000000  \n",
       "78012                            0.000000                            0.000000  \n",
       "78013                            0.000000                            0.000000  \n",
       "78014                            0.000000                            0.000000  \n",
       "78015                            0.000000                            0.000000  \n",
       "78016                            0.000000                            0.000000  \n",
       "78017                            0.000000                            0.000000  \n",
       "78018                            0.000000                            0.000000  \n",
       "78019                            0.000000                            0.000000  \n",
       "78020                            0.000000                            0.000000  \n",
       "78021                            0.000000                            0.000000  \n",
       "78022                            0.000000                            0.000000  \n",
       "78023                            0.000000                            0.000000  \n",
       "78024                            0.000000                            0.000000  \n",
       "\n",
       "[78025 rows x 11 columns]"
      ]
     },
     "execution_count": 13,
     "metadata": {},
     "output_type": "execute_result"
    }
   ],
   "source": [
    "sub_df.iloc[0:,:]"
   ]
  },
  {
   "cell_type": "code",
   "execution_count": 14,
   "metadata": {
    "collapsed": true
   },
   "outputs": [],
   "source": [
    "sub_df.columns = range(sub_df.shape[1])"
   ]
  },
  {
   "cell_type": "code",
   "execution_count": 15,
   "metadata": {
    "collapsed": false
   },
   "outputs": [],
   "source": [
    "#df.boxplot"
   ]
  },
  {
   "cell_type": "code",
   "execution_count": 16,
   "metadata": {
    "collapsed": false
   },
   "outputs": [
    {
     "data": {
      "text/plain": [
       "{u'bodies': [<matplotlib.collections.PolyCollection at 0x74c549cbc9d0>,\n",
       "  <matplotlib.collections.PolyCollection at 0x74c549cbcf10>,\n",
       "  <matplotlib.collections.PolyCollection at 0x74c549ccd510>,\n",
       "  <matplotlib.collections.PolyCollection at 0x74c549ccdad0>,\n",
       "  <matplotlib.collections.PolyCollection at 0x74c549d44d50>,\n",
       "  <matplotlib.collections.PolyCollection at 0x74c549cf79d0>,\n",
       "  <matplotlib.collections.PolyCollection at 0x74c549d46890>,\n",
       "  <matplotlib.collections.PolyCollection at 0x74c549d42f10>,\n",
       "  <matplotlib.collections.PolyCollection at 0x74c549c595d0>,\n",
       "  <matplotlib.collections.PolyCollection at 0x74c549c59b90>],\n",
       " u'cbars': <matplotlib.collections.LineCollection at 0x74c549c6b0d0>,\n",
       " u'cmaxes': <matplotlib.collections.LineCollection at 0x74c549cbc850>,\n",
       " u'cmins': <matplotlib.collections.LineCollection at 0x74c549c66910>}"
      ]
     },
     "execution_count": 16,
     "metadata": {},
     "output_type": "execute_result"
    },
    {
     "data": {
      "image/png": "[encoded data removed]",
      "text/plain": [
       "<matplotlib.figure.Figure at 0x74c54d96eb50>"
      ]
     },
     "metadata": {
      "image/png": {
       "height": 250,
       "width": 377
      }
     },
     "output_type": "display_data"
    }
   ],
   "source": [
    "plt.violinplot([sub_df[0], sub_df[1], sub_df[2], sub_df[3],\\\n",
    "               sub_df[5], sub_df[6],sub_df[7], sub_df[8],sub_df[9], sub_df[10]])"
   ]
  },
  {
   "cell_type": "code",
   "execution_count": 17,
   "metadata": {
    "collapsed": false
   },
   "outputs": [
    {
     "name": "stdout",
     "output_type": "stream",
     "text": [
      "17627\n",
      "60398\n"
     ]
    }
   ],
   "source": [
    "print len(df[df['Opportunity Result'] == 'Won'])\n",
    "print len(df[df['Opportunity Result'] == 'Loss'])"
   ]
  },
  {
   "cell_type": "code",
   "execution_count": 18,
   "metadata": {
    "collapsed": false
   },
   "outputs": [
    {
     "data": {
      "text/plain": [
       "Index([u'Opportunity Number', u'Supplies Subgroup', u'Supplies Group',\n",
       "       u'Region', u'Route To Market', u'Elapsed Days In Sales Stage',\n",
       "       u'Opportunity Result', u'Sales Stage Change Count',\n",
       "       u'Total Days Identified Through Closing',\n",
       "       u'Total Days Identified Through Qualified', u'Opportunity Amount USD',\n",
       "       u'Client Size By Revenue', u'Client Size By Employee Count',\n",
       "       u'Revenue From Client Past Two Years', u'Competitor Type',\n",
       "       u'Ratio Days Identified To Total Days',\n",
       "       u'Ratio Days Validated To Total Days',\n",
       "       u'Ratio Days Qualified To Total Days', u'Deal Size Category'],\n",
       "      dtype='object')"
      ]
     },
     "execution_count": 18,
     "metadata": {},
     "output_type": "execute_result"
    }
   ],
   "source": [
    "df.columns"
   ]
  },
  {
   "cell_type": "code",
   "execution_count": 19,
   "metadata": {
    "collapsed": false
   },
   "outputs": [
    {
     "data": {
      "text/plain": [
       "'\\nThere are 78025 opportunity numbers. Some duplicate rows exist in the data set.\\n77829 unique numbers\\n##196 duplicates\\n'"
      ]
     },
     "execution_count": 19,
     "metadata": {},
     "output_type": "execute_result"
    }
   ],
   "source": [
    "len(df['Opportunity Number'].unique())\n",
    "'''\n",
    "There are 78025 opportunity numbers. Some duplicate rows exist in the data set.\n",
    "77829 unique numbers\n",
    "##196 duplicates\n",
    "'''"
   ]
  },
  {
   "cell_type": "code",
   "execution_count": 20,
   "metadata": {
    "collapsed": false
   },
   "outputs": [
    {
     "data": {
      "text/plain": [
       "Car Accessories           49810\n",
       "Performance & Non-auto    27325\n",
       "Tires & Wheels              609\n",
       "Car Electronics             281\n",
       "Name: Supplies Group, dtype: int64"
      ]
     },
     "execution_count": 20,
     "metadata": {},
     "output_type": "execute_result"
    }
   ],
   "source": [
    "df['Supplies Group'].value_counts()"
   ]
  },
  {
   "cell_type": "code",
   "execution_count": 21,
   "metadata": {
    "collapsed": false
   },
   "outputs": [
    {
     "data": {
      "text/plain": [
       "Motorcycle Parts           15174\n",
       "Exterior Accessories       13876\n",
       "Garage & Car Care           9733\n",
       "Shelters & RV               9606\n",
       "Batteries & Accessories     9192\n",
       "Replacement Parts           7666\n",
       "Interior Accessories        5525\n",
       "Towing & Hitches            3818\n",
       "Performance Parts           2545\n",
       "Tires & Wheels               609\n",
       "Car Electronics              281\n",
       "Name: Supplies Subgroup, dtype: int64"
      ]
     },
     "execution_count": 21,
     "metadata": {},
     "output_type": "execute_result"
    }
   ],
   "source": [
    "df['Supplies Subgroup'].value_counts()"
   ]
  },
  {
   "cell_type": "code",
   "execution_count": 22,
   "metadata": {
    "collapsed": false
   },
   "outputs": [
    {
     "data": {
      "text/plain": [
       "Midwest         21020\n",
       "Pacific         15142\n",
       "Northwest        9552\n",
       "Southeast        9232\n",
       "Southwest        8153\n",
       "Mid-Atlantic     7568\n",
       "Northeast        7358\n",
       "Name: Region, dtype: int64"
      ]
     },
     "execution_count": 22,
     "metadata": {},
     "output_type": "execute_result"
    }
   ],
   "source": [
    "df['Region'].value_counts()"
   ]
  },
  {
   "cell_type": "code",
   "execution_count": 23,
   "metadata": {
    "collapsed": false
   },
   "outputs": [
    {
     "data": {
      "text/plain": [
       "Fields Sales    37262\n",
       "Reseller        34758\n",
       "Other            2856\n",
       "Telesales        2530\n",
       "Telecoverage      619\n",
       "Name: Route To Market, dtype: int64"
      ]
     },
     "execution_count": 23,
     "metadata": {},
     "output_type": "execute_result"
    }
   ],
   "source": [
    "df['Route To Market'].value_counts()"
   ]
  },
  {
   "cell_type": "code",
   "execution_count": 24,
   "metadata": {
    "collapsed": false
   },
   "outputs": [
    {
     "data": {
      "image/png": "[encoded data removed]",
      "text/plain": [
       "<matplotlib.figure.Figure at 0x74c54d56b610>"
      ]
     },
     "metadata": {
      "image/png": {
       "height": 281,
       "width": 399
      }
     },
     "output_type": "display_data"
    },
    {
     "data": {
      "text/plain": [
       "'\\nadd titles, axis labels / units, legends\\n'"
      ]
     },
     "execution_count": 24,
     "metadata": {},
     "output_type": "execute_result"
    }
   ],
   "source": [
    "ax = df['Elapsed Days In Sales Stage'].plot.hist(bins = 100, alpha=0.7)\n",
    "ax.set(xlabel='Number of Days', title = 'Elapsed Days in Sales Stage Histogram')\n",
    "plt.show()\n",
    "'''\n",
    "add titles, axis labels / units, legends\n",
    "'''"
   ]
  },
  {
   "cell_type": "code",
   "execution_count": 25,
   "metadata": {
    "collapsed": false
   },
   "outputs": [
    {
     "data": {
      "text/plain": [
       "Loss    60398\n",
       "Won     17627\n",
       "Name: Opportunity Result, dtype: int64"
      ]
     },
     "execution_count": 25,
     "metadata": {},
     "output_type": "execute_result"
    }
   ],
   "source": [
    "df['Opportunity Result'].value_counts()"
   ]
  },
  {
   "cell_type": "code",
   "execution_count": 26,
   "metadata": {
    "collapsed": false
   },
   "outputs": [
    {
     "data": {
      "text/plain": [
       "'\\nmost leads go through two stage changes\\n'"
      ]
     },
     "execution_count": 26,
     "metadata": {},
     "output_type": "execute_result"
    }
   ],
   "source": [
    "df['Sales Stage Change Count'].value_counts()\n",
    "'''\n",
    "most leads go through two stage changes\n",
    "'''"
   ]
  },
  {
   "cell_type": "code",
   "execution_count": 27,
   "metadata": {
    "collapsed": false
   },
   "outputs": [
    {
     "data": {
      "image/png": "[encoded data removed]",
      "text/plain": [
       "<matplotlib.figure.Figure at 0x74c549d15690>"
      ]
     },
     "metadata": {
      "image/png": {
       "height": 281,
       "width": 412
      }
     },
     "output_type": "display_data"
    }
   ],
   "source": [
    "ax = df['Total Days Identified Through Closing'].plot.hist(bins = 100,alpha = 0.8)\n",
    "ax.set(xlabel='Number of Days', title = 'Total Days Identified Through Closing Histogram')\n",
    "plt.show()"
   ]
  },
  {
   "cell_type": "code",
   "execution_count": 28,
   "metadata": {
    "collapsed": false
   },
   "outputs": [
    {
     "data": {
      "image/png": "[encoded data removed]",
      "text/plain": [
       "<matplotlib.figure.Figure at 0x74c549c2a550>"
      ]
     },
     "metadata": {
      "image/png": {
       "height": 281,
       "width": 411
      }
     },
     "output_type": "display_data"
    }
   ],
   "source": [
    "ax = df['Opportunity Amount USD'].plot.hist(bins = 50)\n",
    "ax.set(xlabel = 'Opportunity Amount USD', title = 'Opportunity Amount Histogram')\n",
    "plt.show()"
   ]
  },
  {
   "cell_type": "code",
   "execution_count": 29,
   "metadata": {
    "collapsed": false
   },
   "outputs": [
    {
     "data": {
      "text/plain": [
       "Unknown    56724\n",
       "Known      12044\n",
       "None        9257\n",
       "Name: Competitor Type, dtype: int64"
      ]
     },
     "execution_count": 29,
     "metadata": {},
     "output_type": "execute_result"
    }
   ],
   "source": [
    "df['Competitor Type'].value_counts()"
   ]
  },
  {
   "cell_type": "code",
   "execution_count": 30,
   "metadata": {
    "collapsed": false
   },
   "outputs": [],
   "source": [
    "df.rename(columns = {'Opportunity Number': 'opportunity_number', 'Supplies Subgroup': 'supplies_subgroup', 'Supplies Group':'supplies_group',\n",
    "       'Region': 'region', 'Route To Market':'route_to_market', 'Elapsed Days In Sales Stage': 'elapsed_days_in_sales_stage',\n",
    "       'Opportunity Result': 'opportunity_result', 'Sales Stage Change Count':  'sales_stage_change_count',\n",
    "       'Total Days Identified Through Closing':'total_days_identified_through_closing',\n",
    "       'Total Days Identified Through Qualified':'total_days_identified_through_qualified', 'Opportunity Amount USD':'opportunity_amount_usd',\n",
    "       'Client Size By Revenue':'client_size_by_revenue', 'Client Size By Employee Count':'client_size_by_employee_count',\n",
    "       'Revenue From Client Past Two Years': 'revenue_from_client_past_two_years', 'Competitor Type': 'competitor_type',\n",
    "       'Ratio Days Identified To Total Days': 'ratio_days_identified_to_total_days',\n",
    "       'Ratio Days Validated To Total Days': 'ratio_days_validated_to_total_days',\n",
    "       'Ratio Days Qualified To Total Days':'ratio_days_qualified_to_total_days', 'Deal Size Category': 'deal_size_category'}, inplace = True)"
   ]
  },
  {
   "cell_type": "code",
   "execution_count": 31,
   "metadata": {
    "collapsed": false
   },
   "outputs": [
    {
     "data": {
      "text/plain": [
       "{'boxes': [<matplotlib.lines.Line2D at 0x74c5499ad110>],\n",
       " 'caps': [<matplotlib.lines.Line2D at 0x74c5499bb8d0>,\n",
       "  <matplotlib.lines.Line2D at 0x74c5493e0ed0>],\n",
       " 'fliers': [<matplotlib.lines.Line2D at 0x74c5499c7a50>],\n",
       " 'means': [],\n",
       " 'medians': [<matplotlib.lines.Line2D at 0x74c5493e08d0>],\n",
       " 'whiskers': [<matplotlib.lines.Line2D at 0x74c5499ada50>,\n",
       "  <matplotlib.lines.Line2D at 0x74c5499bbd10>]}"
      ]
     },
     "execution_count": 31,
     "metadata": {},
     "output_type": "execute_result"
    },
    {
     "data": {
      "image/png": "[encoded data removed]",
      "text/plain": [
       "<matplotlib.figure.Figure at 0x74c549a7e710>"
      ]
     },
     "metadata": {
      "image/png": {
       "height": 250,
       "width": 377
      }
     },
     "output_type": "display_data"
    }
   ],
   "source": [
    "plt.boxplot(df['elapsed_days_in_sales_stage'])"
   ]
  },
  {
   "cell_type": "code",
   "execution_count": 32,
   "metadata": {
    "collapsed": true
   },
   "outputs": [],
   "source": [
    "plt.boxplot?"
   ]
  },
  {
   "cell_type": "code",
   "execution_count": 33,
   "metadata": {
    "collapsed": false
   },
   "outputs": [
    {
     "data": {
      "text/html": [
       "<div>\n",
       "<style>\n",
       "    .dataframe thead tr:only-child th {\n",
       "        text-align: right;\n",
       "    }\n",
       "\n",
       "    .dataframe thead th {\n",
       "        text-align: left;\n",
       "    }\n",
       "\n",
       "    .dataframe tbody tr th {\n",
       "        vertical-align: top;\n",
       "    }\n",
       "</style>\n",
       "<table border=\"1\" class=\"dataframe\">\n",
       "  <thead>\n",
       "    <tr style=\"text-align: right;\">\n",
       "      <th></th>\n",
       "      <th>opportunity_number</th>\n",
       "      <th>supplies_subgroup</th>\n",
       "      <th>supplies_group</th>\n",
       "      <th>region</th>\n",
       "      <th>route_to_market</th>\n",
       "      <th>elapsed_days_in_sales_stage</th>\n",
       "      <th>opportunity_result</th>\n",
       "      <th>sales_stage_change_count</th>\n",
       "      <th>total_days_identified_through_closing</th>\n",
       "      <th>total_days_identified_through_qualified</th>\n",
       "      <th>opportunity_amount_usd</th>\n",
       "      <th>client_size_by_revenue</th>\n",
       "      <th>client_size_by_employee_count</th>\n",
       "      <th>revenue_from_client_past_two_years</th>\n",
       "      <th>competitor_type</th>\n",
       "      <th>ratio_days_identified_to_total_days</th>\n",
       "      <th>ratio_days_validated_to_total_days</th>\n",
       "      <th>ratio_days_qualified_to_total_days</th>\n",
       "      <th>deal_size_category</th>\n",
       "    </tr>\n",
       "  </thead>\n",
       "  <tbody>\n",
       "    <tr>\n",
       "      <th>0</th>\n",
       "      <td>1641984</td>\n",
       "      <td>Exterior Accessories</td>\n",
       "      <td>Car Accessories</td>\n",
       "      <td>Northwest</td>\n",
       "      <td>Fields Sales</td>\n",
       "      <td>76</td>\n",
       "      <td>Won</td>\n",
       "      <td>13</td>\n",
       "      <td>104</td>\n",
       "      <td>101</td>\n",
       "      <td>0</td>\n",
       "      <td>5</td>\n",
       "      <td>5</td>\n",
       "      <td>0</td>\n",
       "      <td>Unknown</td>\n",
       "      <td>0.69636</td>\n",
       "      <td>0.113985</td>\n",
       "      <td>0.154215</td>\n",
       "      <td>1</td>\n",
       "    </tr>\n",
       "    <tr>\n",
       "      <th>1</th>\n",
       "      <td>1658010</td>\n",
       "      <td>Exterior Accessories</td>\n",
       "      <td>Car Accessories</td>\n",
       "      <td>Pacific</td>\n",
       "      <td>Reseller</td>\n",
       "      <td>63</td>\n",
       "      <td>Loss</td>\n",
       "      <td>2</td>\n",
       "      <td>163</td>\n",
       "      <td>163</td>\n",
       "      <td>0</td>\n",
       "      <td>3</td>\n",
       "      <td>5</td>\n",
       "      <td>0</td>\n",
       "      <td>Unknown</td>\n",
       "      <td>0.00000</td>\n",
       "      <td>1.000000</td>\n",
       "      <td>0.000000</td>\n",
       "      <td>1</td>\n",
       "    </tr>\n",
       "    <tr>\n",
       "      <th>2</th>\n",
       "      <td>1674737</td>\n",
       "      <td>Motorcycle Parts</td>\n",
       "      <td>Performance &amp; Non-auto</td>\n",
       "      <td>Pacific</td>\n",
       "      <td>Reseller</td>\n",
       "      <td>24</td>\n",
       "      <td>Won</td>\n",
       "      <td>7</td>\n",
       "      <td>82</td>\n",
       "      <td>82</td>\n",
       "      <td>7750</td>\n",
       "      <td>1</td>\n",
       "      <td>1</td>\n",
       "      <td>0</td>\n",
       "      <td>Unknown</td>\n",
       "      <td>1.00000</td>\n",
       "      <td>0.000000</td>\n",
       "      <td>0.000000</td>\n",
       "      <td>1</td>\n",
       "    </tr>\n",
       "    <tr>\n",
       "      <th>3</th>\n",
       "      <td>1675224</td>\n",
       "      <td>Shelters &amp; RV</td>\n",
       "      <td>Performance &amp; Non-auto</td>\n",
       "      <td>Midwest</td>\n",
       "      <td>Reseller</td>\n",
       "      <td>16</td>\n",
       "      <td>Loss</td>\n",
       "      <td>5</td>\n",
       "      <td>124</td>\n",
       "      <td>124</td>\n",
       "      <td>0</td>\n",
       "      <td>1</td>\n",
       "      <td>1</td>\n",
       "      <td>0</td>\n",
       "      <td>Known</td>\n",
       "      <td>1.00000</td>\n",
       "      <td>0.000000</td>\n",
       "      <td>0.000000</td>\n",
       "      <td>1</td>\n",
       "    </tr>\n",
       "    <tr>\n",
       "      <th>4</th>\n",
       "      <td>1689785</td>\n",
       "      <td>Exterior Accessories</td>\n",
       "      <td>Car Accessories</td>\n",
       "      <td>Pacific</td>\n",
       "      <td>Reseller</td>\n",
       "      <td>69</td>\n",
       "      <td>Loss</td>\n",
       "      <td>11</td>\n",
       "      <td>91</td>\n",
       "      <td>13</td>\n",
       "      <td>69756</td>\n",
       "      <td>1</td>\n",
       "      <td>1</td>\n",
       "      <td>0</td>\n",
       "      <td>Unknown</td>\n",
       "      <td>0.00000</td>\n",
       "      <td>0.141125</td>\n",
       "      <td>0.000000</td>\n",
       "      <td>4</td>\n",
       "    </tr>\n",
       "  </tbody>\n",
       "</table>\n",
       "</div>"
      ],
      "text/plain": [
       "   opportunity_number     supplies_subgroup          supplies_group  \\\n",
       "0             1641984  Exterior Accessories         Car Accessories   \n",
       "1             1658010  Exterior Accessories         Car Accessories   \n",
       "2             1674737      Motorcycle Parts  Performance & Non-auto   \n",
       "3             1675224         Shelters & RV  Performance & Non-auto   \n",
       "4             1689785  Exterior Accessories         Car Accessories   \n",
       "\n",
       "      region route_to_market  elapsed_days_in_sales_stage opportunity_result  \\\n",
       "0  Northwest    Fields Sales                           76                Won   \n",
       "1    Pacific        Reseller                           63               Loss   \n",
       "2    Pacific        Reseller                           24                Won   \n",
       "3    Midwest        Reseller                           16               Loss   \n",
       "4    Pacific        Reseller                           69               Loss   \n",
       "\n",
       "   sales_stage_change_count  total_days_identified_through_closing  \\\n",
       "0                        13                                    104   \n",
       "1                         2                                    163   \n",
       "2                         7                                     82   \n",
       "3                         5                                    124   \n",
       "4                        11                                     91   \n",
       "\n",
       "   total_days_identified_through_qualified  opportunity_amount_usd  \\\n",
       "0                                      101                       0   \n",
       "1                                      163                       0   \n",
       "2                                       82                    7750   \n",
       "3                                      124                       0   \n",
       "4                                       13                   69756   \n",
       "\n",
       "   client_size_by_revenue  client_size_by_employee_count  \\\n",
       "0                       5                              5   \n",
       "1                       3                              5   \n",
       "2                       1                              1   \n",
       "3                       1                              1   \n",
       "4                       1                              1   \n",
       "\n",
       "   revenue_from_client_past_two_years competitor_type  \\\n",
       "0                                   0         Unknown   \n",
       "1                                   0         Unknown   \n",
       "2                                   0         Unknown   \n",
       "3                                   0           Known   \n",
       "4                                   0         Unknown   \n",
       "\n",
       "   ratio_days_identified_to_total_days  ratio_days_validated_to_total_days  \\\n",
       "0                              0.69636                            0.113985   \n",
       "1                              0.00000                            1.000000   \n",
       "2                              1.00000                            0.000000   \n",
       "3                              1.00000                            0.000000   \n",
       "4                              0.00000                            0.141125   \n",
       "\n",
       "   ratio_days_qualified_to_total_days  deal_size_category  \n",
       "0                            0.154215                   1  \n",
       "1                            0.000000                   1  \n",
       "2                            0.000000                   1  \n",
       "3                            0.000000                   1  \n",
       "4                            0.000000                   4  "
      ]
     },
     "execution_count": 33,
     "metadata": {},
     "output_type": "execute_result"
    }
   ],
   "source": [
    "df.head()"
   ]
  },
  {
   "cell_type": "code",
   "execution_count": 34,
   "metadata": {
    "collapsed": false
   },
   "outputs": [
    {
     "name": "stdout",
     "output_type": "stream",
     "text": [
      "17627\n",
      "60398\n"
     ]
    },
    {
     "data": {
      "text/plain": [
       "'\\nfairly unbalanced classes, 3 or 4 times as many losses as wons.\\n'"
      ]
     },
     "execution_count": 34,
     "metadata": {},
     "output_type": "execute_result"
    }
   ],
   "source": [
    "print len(df[df['opportunity_result'] == 'Won'])\n",
    "print len(df[df['opportunity_result'] == 'Loss'])\n",
    "'''\n",
    "fairly unbalanced classes, 3 or 4 times as many losses as wons.\n",
    "'''\n",
    "#60398/17627.0"
   ]
  },
  {
   "cell_type": "code",
   "execution_count": 35,
   "metadata": {
    "collapsed": false
   },
   "outputs": [],
   "source": [
    "'''\n",
    "one hot encoding the categorical variables \n",
    "'''\n",
    "dummies_a = pd.get_dummies(df['supplies_subgroup'])\n",
    "dummies_b = pd.get_dummies(df['supplies_group'])\n",
    "dummies_c = pd.get_dummies(df['region'])\n",
    "dummies_d = pd.get_dummies(df['route_to_market'])\n",
    "dummies_e = pd.get_dummies(df['competitor_type'])"
   ]
  },
  {
   "cell_type": "code",
   "execution_count": 36,
   "metadata": {
    "collapsed": true
   },
   "outputs": [],
   "source": [
    "'''\n",
    "removing duplicate columns\n",
    "'''\n",
    "dummies_b.drop(['Tires & Wheels', 'Car Electronics'], axis =1, inplace = True)"
   ]
  },
  {
   "cell_type": "code",
   "execution_count": 37,
   "metadata": {
    "collapsed": false
   },
   "outputs": [],
   "source": [
    "x_a = df.drop(['supplies_subgroup', 'supplies_group', 'region','route_to_market','competitor_type', 'opportunity_result'], axis =1)"
   ]
  },
  {
   "cell_type": "code",
   "execution_count": 38,
   "metadata": {
    "collapsed": false
   },
   "outputs": [],
   "source": [
    "x_a.drop(['opportunity_number'], axis =1, inplace = True)"
   ]
  },
  {
   "cell_type": "code",
   "execution_count": 39,
   "metadata": {
    "collapsed": false
   },
   "outputs": [],
   "source": [
    "X = pd.concat([x_a, dummies_a, dummies_b, dummies_c, dummies_d, dummies_e], axis =1)\n",
    "y = df['opportunity_result']"
   ]
  },
  {
   "cell_type": "code",
   "execution_count": 40,
   "metadata": {
    "collapsed": false
   },
   "outputs": [
    {
     "data": {
      "text/plain": [
       "0     Won\n",
       "1    Loss\n",
       "2     Won\n",
       "3    Loss\n",
       "4    Loss\n",
       "Name: opportunity_result, dtype: object"
      ]
     },
     "execution_count": 40,
     "metadata": {},
     "output_type": "execute_result"
    }
   ],
   "source": [
    "y.head()"
   ]
  },
  {
   "cell_type": "code",
   "execution_count": 41,
   "metadata": {
    "collapsed": true
   },
   "outputs": [],
   "source": [
    "def convert_func(value):\n",
    "    return 1 if value =='Won' else 0"
   ]
  },
  {
   "cell_type": "code",
   "execution_count": 42,
   "metadata": {
    "collapsed": false
   },
   "outputs": [],
   "source": [
    "y = y.apply(convert_func)"
   ]
  },
  {
   "cell_type": "code",
   "execution_count": 43,
   "metadata": {
    "collapsed": false
   },
   "outputs": [
    {
     "data": {
      "text/plain": [
       "0    1\n",
       "1    0\n",
       "2    1\n",
       "3    0\n",
       "4    0\n",
       "Name: opportunity_result, dtype: int64"
      ]
     },
     "execution_count": 43,
     "metadata": {},
     "output_type": "execute_result"
    }
   ],
   "source": [
    "y.head()"
   ]
  },
  {
   "cell_type": "markdown",
   "metadata": {},
   "source": [
    "### Training the Model"
   ]
  },
  {
   "cell_type": "code",
   "execution_count": 44,
   "metadata": {
    "collapsed": true
   },
   "outputs": [],
   "source": [
    "from sklearn.model_selection import train_test_split\n",
    "X_train, X_test, y_train, y_test = train_test_split(X,y)"
   ]
  },
  {
   "cell_type": "code",
   "execution_count": 45,
   "metadata": {
    "collapsed": false
   },
   "outputs": [
    {
     "data": {
      "text/plain": [
       "3.4264480626311906"
      ]
     },
     "execution_count": 45,
     "metadata": {},
     "output_type": "execute_result"
    }
   ],
   "source": [
    "60398/17627.0"
   ]
  },
  {
   "cell_type": "code",
   "execution_count": 46,
   "metadata": {
    "collapsed": false
   },
   "outputs": [
    {
     "name": "stderr",
     "output_type": "stream",
     "text": [
      "/home/rnjeri/anaconda2/lib/python2.7/site-packages/sklearn/cross_validation.py:44: DeprecationWarning: This module was deprecated in version 0.18 in favor of the model_selection module into which all the refactored classes and functions are moved. Also note that the interface of the new CV iterators are different from that of this module. This module will be removed in 0.20.\n",
      "  \"This module will be removed in 0.20.\", DeprecationWarning)\n"
     ]
    },
    {
     "data": {
      "text/plain": [
       "XGBClassifier(base_score=0.5, colsample_bylevel=1, colsample_bytree=1,\n",
       "       gamma=0, learning_rate=0.1, max_delta_step=0, max_depth=3,\n",
       "       min_child_weight=1, missing=None, n_estimators=100, nthread=-1,\n",
       "       objective='binary:logistic', reg_alpha=0, reg_lambda=1,\n",
       "       scale_pos_weight=3, seed=0, silent=True, subsample=1)"
      ]
     },
     "execution_count": 46,
     "metadata": {},
     "output_type": "execute_result"
    }
   ],
   "source": [
    "import xgboost as xgb\n",
    "xgb_model = xgb.XGBClassifier(scale_pos_weight = 3)\n",
    "xgb_model.fit(X_train, y_train)"
   ]
  },
  {
   "cell_type": "code",
   "execution_count": 47,
   "metadata": {
    "collapsed": false
   },
   "outputs": [
    {
     "data": {
      "text/plain": [
       "0.84103142461680425"
      ]
     },
     "execution_count": 47,
     "metadata": {},
     "output_type": "execute_result"
    }
   ],
   "source": [
    "xgb_model.score(X_test, y_test)"
   ]
  },
  {
   "cell_type": "code",
   "execution_count": 48,
   "metadata": {
    "collapsed": false
   },
   "outputs": [
    {
     "data": {
      "text/plain": [
       "[(0.18459302, 'elapsed_days_in_sales_stage'),\n",
       " (0.11627907, 'sales_stage_change_count'),\n",
       " (0.034883723, 'total_days_identified_through_closing'),\n",
       " (0.11046512, 'total_days_identified_through_qualified'),\n",
       " (0.19040698, 'opportunity_amount_usd'),\n",
       " (0.011627907, 'client_size_by_revenue'),\n",
       " (0.0072674421, 'client_size_by_employee_count'),\n",
       " (0.090116277, 'revenue_from_client_past_two_years'),\n",
       " (0.05232558, 'ratio_days_identified_to_total_days'),\n",
       " (0.031976745, 'ratio_days_validated_to_total_days'),\n",
       " (0.059593022, 'ratio_days_qualified_to_total_days'),\n",
       " (0.0, 'deal_size_category'),\n",
       " (0.0, 'Batteries & Accessories'),\n",
       " (0.0, 'Car Electronics'),\n",
       " (0.0, 'Exterior Accessories'),\n",
       " (0.0072674421, 'Garage & Car Care'),\n",
       " (0.0014534884, 'Interior Accessories'),\n",
       " (0.0, 'Motorcycle Parts'),\n",
       " (0.0014534884, 'Performance Parts'),\n",
       " (0.0, 'Replacement Parts'),\n",
       " (0.0, 'Shelters & RV'),\n",
       " (0.0, 'Tires & Wheels'),\n",
       " (0.0029069767, 'Towing & Hitches'),\n",
       " (0.0, 'Car Accessories'),\n",
       " (0.0, 'Performance & Non-auto'),\n",
       " (0.0, 'Mid-Atlantic'),\n",
       " (0.0029069767, 'Midwest'),\n",
       " (0.0, 'Northeast'),\n",
       " (0.0, 'Northwest'),\n",
       " (0.0, 'Pacific'),\n",
       " (0.0043604653, 'Southeast'),\n",
       " (0.0072674421, 'Southwest'),\n",
       " (0.011627907, 'Fields Sales'),\n",
       " (0.0, 'Other'),\n",
       " (0.050872091, 'Reseller'),\n",
       " (0.0, 'Telecoverage'),\n",
       " (0.0072674421, 'Telesales'),\n",
       " (0.0, 'Known'),\n",
       " (0.0087209307, 'None'),\n",
       " (0.0043604653, 'Unknown')]"
      ]
     },
     "execution_count": 48,
     "metadata": {},
     "output_type": "execute_result"
    }
   ],
   "source": [
    "zip(xgb_model.feature_importances_, X_train.columns)"
   ]
  },
  {
   "cell_type": "code",
   "execution_count": 49,
   "metadata": {
    "collapsed": false
   },
   "outputs": [
    {
     "data": {
      "text/plain": [
       "'\\ntop 6 features that result in the most information gain in the decision tree:\\n-opportunity amount USD\\n- elapsted days in sales stage\\n- total days identified  through qualified\\n- sales stage change count\\n- opportunity number\\n- revenue from client past two years\\n'"
      ]
     },
     "execution_count": 49,
     "metadata": {},
     "output_type": "execute_result"
    },
    {
     "data": {
      "image/png": "[encoded data removed]",
      "text/plain": [
       "<matplotlib.figure.Figure at 0x74c5413deb90>"
      ]
     },
     "metadata": {
      "image/png": {
       "height": 281,
       "width": 571
      }
     },
     "output_type": "display_data"
    }
   ],
   "source": [
    "xgb.plot_importance(xgb_model)\n",
    "'''\n",
    "top 6 features that result in the most information gain in the decision tree:\n",
    "-opportunity amount USD\n",
    "- elapsted days in sales stage\n",
    "- total days identified  through qualified\n",
    "- sales stage change count\n",
    "- opportunity number\n",
    "- revenue from client past two years\n",
    "'''"
   ]
  },
  {
   "cell_type": "code",
   "execution_count": 50,
   "metadata": {
    "collapsed": false
   },
   "outputs": [
    {
     "data": {
      "text/plain": [
       "19"
      ]
     },
     "execution_count": 50,
     "metadata": {},
     "output_type": "execute_result"
    }
   ],
   "source": [
    "len(df.columns)"
   ]
  },
  {
   "cell_type": "code",
   "execution_count": 51,
   "metadata": {
    "collapsed": false
   },
   "outputs": [
    {
     "data": {
      "text/plain": [
       "<Container object of 40 artists>"
      ]
     },
     "execution_count": 51,
     "metadata": {},
     "output_type": "execute_result"
    },
    {
     "data": {
      "image/png": "[encoded data removed]",
      "text/plain": [
       "<matplotlib.figure.Figure at 0x74c53ff70c50>"
      ]
     },
     "metadata": {
      "image/png": {
       "height": 252,
       "width": 386
      }
     },
     "output_type": "display_data"
    }
   ],
   "source": [
    "plt.bar(range(len(xgb_model.feature_importances_)), xgb_model.feature_importances_)"
   ]
  },
  {
   "cell_type": "markdown",
   "metadata": {},
   "source": [
    "### Model Validation"
   ]
  },
  {
   "cell_type": "code",
   "execution_count": 52,
   "metadata": {
    "collapsed": true
   },
   "outputs": [],
   "source": [
    "predicted_y = xgb_model.predict(X_test)"
   ]
  },
  {
   "cell_type": "code",
   "execution_count": 53,
   "metadata": {
    "collapsed": true
   },
   "outputs": [],
   "source": [
    "def plot_confusion_matrix(truth, predicted, labels={}, save_name='',\n",
    "                          title='Confusion Matrix Balanced Classes', norm=1, suppress_values=False,\n",
    "                          diagonal_values=False,\n",
    "                          font_size=14,\n",
    "                          cmin=0,cmax=1,\n",
    "                          cut_off = 1,\n",
    "                          is_recall=True\n",
    "                         ):\n",
    "    # make confusion matrix from truth and predicted for classes\n",
    "    # define the confusion matrix\n",
    "    from sklearn.metrics import confusion_matrix\n",
    "    from sklearn.metrics import classification_report\n",
    "    import numpy as np\n",
    "\n",
    "\n",
    "\n",
    "    # convert to int and generate labels if string\n",
    "    if isinstance(truth[0],str) and isinstance(predicted[0], str):\n",
    "        class_dict, labels = _generate_class_dicts(set(truth))\n",
    "        truth = [class_dict[x] for x in truth]\n",
    "        predicted = [class_dict[x] for x in predicted]# if x in class_dict]\n",
    "        \n",
    "\n",
    "    conf_mat = confusion_matrix(truth,predicted)\n",
    "\n",
    "    #normalise\n",
    "    if norm:\n",
    "        if is_recall:\n",
    "            conf_mat =  conf_mat.astype('float')/conf_mat.sum(axis=1)[:, np.newaxis]\n",
    "        else:\n",
    "            conf_mat =  conf_mat.astype('float')/conf_mat.sum(axis=0)\n",
    "    \n",
    "    fig, ax = plt.subplots(figsize=(8,8))\n",
    "    width = np.shape(conf_mat)[1]\n",
    "    height = np.shape(conf_mat)[0]\n",
    "\n",
    "    res = plt.imshow(np.array(conf_mat), cmap=plt.cm.Blues, interpolation='nearest')\n",
    "    cb = fig.colorbar(res)\n",
    "\n",
    "    res.set_clim(cmin, cmax)\n",
    "\n",
    "    # add number overlay\n",
    "    for i, row in enumerate(conf_mat):\n",
    "        for j, c in enumerate(row):\n",
    "            if (not suppress_values or (diagonal_values and i==j)) and c>0 :\n",
    "                cent = .1\n",
    "                if diagonal_values:\n",
    "                    cent = .3\n",
    "\n",
    "                if norm:\n",
    "                    d = round(c,2)\n",
    "                    plt.text(j-cent, i+.0, d, fontsize=9)\n",
    "                else:\n",
    "                    plt.text(j-cent, i+.0, c, fontsize=9)\n",
    "\n",
    "            if (i==j) and c > cut_off:\n",
    "                cent= 0.3\n",
    "                plt.text(j-cent, i+.0, 'X', fontsize=9)\n",
    "\n",
    "    # set axes\n",
    "    if labels !={}:\n",
    "        _ = plt.xticks(range(len(labels)), [labels[l] for l in labels], rotation=90, fontsize=font_size)\n",
    "        _ = plt.yticks(range(len(labels)), [labels[l] for l in labels],fontsize=font_size)\n",
    "        print(classification_report(truth, predicted,target_names=[l for l in labels.values()]))\n",
    "\n",
    "    plt.xlabel('Predicted',fontsize=font_size+4)\n",
    "    plt.ylabel('Truth',fontsize=font_size+4)\n",
    "    plt.title(title,fontsize=font_size+5)\n",
    "\n",
    "    cb.ax.get_yaxis().labelpad = 20\n",
    "    cb.ax.set_ylabel('Recall', rotation=270, size=18)\n",
    "\n",
    "    if save_name != '':\n",
    "        plt.savefig(save_name)"
   ]
  },
  {
   "cell_type": "code",
   "execution_count": 54,
   "metadata": {
    "collapsed": false
   },
   "outputs": [],
   "source": [
    "y_test = y_test.reset_index()\n",
    "y_test = y_test['opportunity_result']"
   ]
  },
  {
   "cell_type": "code",
   "execution_count": 55,
   "metadata": {
    "collapsed": false
   },
   "outputs": [
    {
     "data": {
      "image/png": "[encoded data removed]",
      "text/plain": [
       "<matplotlib.figure.Figure at 0x74c54d5ce810>"
      ]
     },
     "metadata": {
      "image/png": {
       "height": 458,
       "width": 517
      }
     },
     "output_type": "display_data"
    }
   ],
   "source": [
    "plot_confusion_matrix(y_test, predicted_y)"
   ]
  },
  {
   "cell_type": "markdown",
   "metadata": {},
   "source": [
    "### Precision Recall Curve "
   ]
  },
  {
   "cell_type": "code",
   "execution_count": 56,
   "metadata": {
    "collapsed": false
   },
   "outputs": [
    {
     "data": {
      "image/png": "[encoded data removed]",
      "text/plain": [
       "<matplotlib.figure.Figure at 0x74c54912bdd0>"
      ]
     },
     "metadata": {
      "image/png": {
       "height": 442,
       "width": 451
      }
     },
     "output_type": "display_data"
    }
   ],
   "source": [
    "import scikitplot as skplt\n",
    "probas = xgb_model.predict_proba(X_test)\n",
    "skplt.metrics.plot_precision_recall_curve(y_test, probas, figsize= (7,7))\n",
    "plt.show()"
   ]
  },
  {
   "cell_type": "markdown",
   "metadata": {},
   "source": [
    "There is lower accuracy for the positive class. However there are a lot more False Negatives. "
   ]
  },
  {
   "cell_type": "markdown",
   "metadata": {},
   "source": [
    "### ROC Curve "
   ]
  },
  {
   "cell_type": "code",
   "execution_count": 57,
   "metadata": {
    "collapsed": false
   },
   "outputs": [
    {
     "data": {
      "image/png": "[encoded data removed]",
      "text/plain": [
       "<matplotlib.figure.Figure at 0x74c54993bf90>"
      ]
     },
     "metadata": {
      "image/png": {
       "height": 281,
       "width": 396
      }
     },
     "output_type": "display_data"
    }
   ],
   "source": [
    "from sklearn.metrics import roc_curve\n",
    "from sklearn.metrics import auc\n",
    "\n",
    "y_predictprob_xgb = xgb_model.predict_proba(X_test)\n",
    "false_positive_rate_xgb_model, true_positive_rate_xgb_model, thresholds_xgb_model = roc_curve(y_test, y_predictprob_xgb[:,1])\n",
    "roc_auc_xgb = auc(false_positive_rate_xgb_model, true_positive_rate_xgb_model)\n",
    "\n",
    "plt.title('Receiver Operating Characteristic')\n",
    "\n",
    "plt.plot(false_positive_rate_xgb_model, true_positive_rate_xgb_model, 'b',\n",
    "label='AUC = %0.2f'% roc_auc_xgb)\n",
    "\n",
    "plt.legend(loc='lower right')\n",
    "plt.plot([0,1],[0,1],'r--')\n",
    "plt.xlim([-0.1,1.2])\n",
    "plt.ylim([-0.1,1.2])\n",
    "plt.ylabel('True Positive Rate')\n",
    "plt.xlabel('False Positive Rate')\n",
    "plt.show()"
   ]
  },
  {
   "cell_type": "markdown",
   "metadata": {},
   "source": [
    "### Predicted Probability Histogram"
   ]
  },
  {
   "cell_type": "code",
   "execution_count": 58,
   "metadata": {
    "collapsed": true
   },
   "outputs": [],
   "source": [
    "import numpy as np\n",
    "def compile_true_positive_indices(true, predict): \n",
    "    mask = true == predict\n",
    "    mask1 = true == 1\n",
    "    return np.logical_and(mask, mask1 )\n",
    "#compile_true_positive_indices(y_test, predicted_y)[xgb_model.predict_proba(X_test)[:,1]]\n",
    "\n",
    "def compile_true_negative_indices(true, predict): \n",
    "    mask = true == predict\n",
    "    mask1 = true == 0\n",
    "    return np.logical_and(mask, mask1 )\n",
    "#compile_true_negative_indices(y_test, predicted_y)[xgb_model.predict_proba(X_test)[:,1]]"
   ]
  },
  {
   "cell_type": "code",
   "execution_count": 59,
   "metadata": {
    "collapsed": false
   },
   "outputs": [],
   "source": [
    "true_pos_probas = xgb_model.predict_proba(X_test)[:,1][compile_true_positive_indices(y_test, predicted_y)]\n",
    "true_neg_probas = xgb_model.predict_proba(X_test)[:,1][compile_true_negative_indices(y_test, predicted_y)]"
   ]
  },
  {
   "cell_type": "code",
   "execution_count": 60,
   "metadata": {
    "collapsed": false
   },
   "outputs": [],
   "source": [
    "tp = pd.DataFrame(true_pos_probas)\n",
    "tn = pd.DataFrame(true_neg_probas)"
   ]
  },
  {
   "cell_type": "code",
   "execution_count": 61,
   "metadata": {
    "collapsed": false
   },
   "outputs": [
    {
     "data": {
      "image/png": "[encoded data removed]",
      "text/plain": [
       "<matplotlib.figure.Figure at 0x74c549a1ac10>"
      ]
     },
     "metadata": {
      "image/png": {
       "height": 265,
       "width": 364
      }
     },
     "output_type": "display_data"
    },
    {
     "data": {
      "text/plain": [
       "'\\nbecause of the difference in class weights?\\n'"
      ]
     },
     "execution_count": 61,
     "metadata": {},
     "output_type": "execute_result"
    }
   ],
   "source": [
    "bins = np.linspace(0,1,100)\n",
    "plt.hist(tp, bins, alpha=0.7, label='TruePos', normed = True)\n",
    "plt.hist(tn, bins, alpha=0.7, label='TrueNeg', normed = True)\n",
    "plt.title('Balanced Classes Histogram')\n",
    "plt.legend(loc='upper right')\n",
    "plt.show()\n",
    "'''\n",
    "because of the difference in class weights?\n",
    "'''"
   ]
  },
  {
   "cell_type": "code",
   "execution_count": 62,
   "metadata": {
    "collapsed": true
   },
   "outputs": [],
   "source": [
    "import numpy as np\n",
    "def compile_true_indices(true, predict): \n",
    "    #mask = true == predict\n",
    "    mask1 = true == 1\n",
    "    return np.where(mask1 )\n",
    "#compile_true_positive_indices(y_test, predicted_y)[xgb_model.predict_proba(X_test)[:,1]]"
   ]
  },
  {
   "cell_type": "code",
   "execution_count": 63,
   "metadata": {
    "collapsed": true
   },
   "outputs": [],
   "source": [
    "pos_probas = xgb_model.predict_proba(X_test)[:,1][compile_true_indices(y_test, predicted_y)]"
   ]
  },
  {
   "cell_type": "code",
   "execution_count": 64,
   "metadata": {
    "collapsed": true
   },
   "outputs": [],
   "source": [
    "trues = pd.DataFrame(pos_probas)"
   ]
  },
  {
   "cell_type": "code",
   "execution_count": 65,
   "metadata": {
    "collapsed": false
   },
   "outputs": [
    {
     "data": {
      "image/png": "[encoded data removed]",
      "text/plain": [
       "<matplotlib.figure.Figure at 0x74c53fd67b90>"
      ]
     },
     "metadata": {
      "image/png": {
       "height": 265,
       "width": 373
      }
     },
     "output_type": "display_data"
    },
    {
     "data": {
      "text/plain": [
       "'\\nbecause of the difference in class weights?\\n'"
      ]
     },
     "execution_count": 65,
     "metadata": {},
     "output_type": "execute_result"
    }
   ],
   "source": [
    "bins = np.linspace(0,1,100)\n",
    "plt.hist(trues, bins, alpha=0.7, label='Predicted Probability', normed = True)\n",
    "#plt.hist(tn, bins, alpha=0.7, label='TrueNeg', normed = True)\n",
    "plt.title('True Values Predicted Probabilities Histogram')\n",
    "plt.legend(loc='upper right')\n",
    "plt.show()\n",
    "'''\n",
    "because of the difference in class weights?\n",
    "'''"
   ]
  },
  {
   "cell_type": "code",
   "execution_count": 66,
   "metadata": {
    "collapsed": true
   },
   "outputs": [],
   "source": [
    "import numpy as np\n",
    "def compile_actual_false_indices(true, predict): \n",
    "    #mask = true == predict\n",
    "    mask1 = true == 0\n",
    "    return np.where(mask1 )\n",
    "#compile_true_positive_indices(y_test, predicted_y)[xgb_model.predict_proba(X_test)[:,1]]"
   ]
  },
  {
   "cell_type": "code",
   "execution_count": 67,
   "metadata": {
    "collapsed": true
   },
   "outputs": [],
   "source": [
    "neg_probas = xgb_model.predict_proba(X_test)[:,1][compile_actual_false_indices(y_test, predicted_y)]"
   ]
  },
  {
   "cell_type": "code",
   "execution_count": 68,
   "metadata": {
    "collapsed": true
   },
   "outputs": [],
   "source": [
    "actual_falses = pd.DataFrame(neg_probas)"
   ]
  },
  {
   "cell_type": "code",
   "execution_count": 69,
   "metadata": {
    "collapsed": false
   },
   "outputs": [
    {
     "data": {
      "image/png": "[encoded data removed]",
      "text/plain": [
       "<matplotlib.figure.Figure at 0x74c527640410>"
      ]
     },
     "metadata": {
      "image/png": {
       "height": 265,
       "width": 364
      }
     },
     "output_type": "display_data"
    },
    {
     "data": {
      "text/plain": [
       "'\\nbecause of the difference in class weights?\\n'"
      ]
     },
     "execution_count": 69,
     "metadata": {},
     "output_type": "execute_result"
    }
   ],
   "source": [
    "bins = np.linspace(0,1,100)\n",
    "plt.hist(actual_falses, bins, alpha=0.7, label='Predicted Probability', normed = True)\n",
    "#plt.hist(tn, bins, alpha=0.7, label='TrueNeg', normed = True)\n",
    "plt.title('False Values Predicted Probabilities Histogram')\n",
    "plt.legend(loc='upper right')\n",
    "plt.show()\n",
    "'''\n",
    "because of the difference in class weights?\n",
    "'''"
   ]
  },
  {
   "cell_type": "code",
   "execution_count": 70,
   "metadata": {
    "collapsed": false
   },
   "outputs": [],
   "source": [
    "# actual positives\n",
    "#plt.scatter(xgb_model.predict_proba(X_test)[:,1][...(y_test, predicted_y)],\n",
    "   #       features_name[...]\n",
    "# actual negatives\n",
    "#plt.scatter(xgbmodel.predict_proba(X_test)[:,1][compile_actual_false_indices(y_test, predicted_y)],\n",
    " #         ['Opportunity Amount USD']"
   ]
  },
  {
   "cell_type": "markdown",
   "metadata": {},
   "source": [
    "### Feature Engineering"
   ]
  },
  {
   "cell_type": "code",
   "execution_count": 71,
   "metadata": {
    "collapsed": true
   },
   "outputs": [],
   "source": [
    "from sklearn.feature_selection import SelectFromModel\n",
    "from sklearn.metrics import accuracy_score\n",
    "from __future__ import division"
   ]
  },
  {
   "cell_type": "code",
   "execution_count": 72,
   "metadata": {
    "collapsed": false
   },
   "outputs": [
    {
     "name": "stdout",
     "output_type": "stream",
     "text": [
      "Thresh=0.000, n=40, Accuracy: 87.44%\n",
      "Thresh=0.001, n=23, Accuracy: 87.46%\n",
      "Thresh=0.090, n=5, Accuracy: 86.32%\n",
      "Thresh=0.110, n=4, Accuracy: 84.64%\n",
      "Thresh=0.185, n=2, Accuracy: 79.83%\n",
      "Thresh=0.012, n=12, Accuracy: 87.31%\n",
      "Thresh=0.190, n=1, Accuracy: 77.95%\n",
      "Thresh=0.007, n=17, Accuracy: 87.45%\n",
      "Thresh=0.009, n=13, Accuracy: 87.33%\n",
      "Thresh=0.035, n=9, Accuracy: 87.38%\n",
      "Thresh=0.003, n=21, Accuracy: 87.49%\n",
      "Thresh=0.032, n=10, Accuracy: 87.45%\n",
      "Thresh=0.116, n=3, Accuracy: 81.97%\n",
      "Thresh=0.004, n=19, Accuracy: 87.51%\n",
      "Thresh=0.060, n=6, Accuracy: 86.62%\n",
      "Thresh=0.051, n=8, Accuracy: 87.38%\n",
      "Thresh=0.052, n=7, Accuracy: 87.12%\n"
     ]
    }
   ],
   "source": [
    "thresholds = set(sorted(xgb_model.feature_importances_))\n",
    "for thresh in thresholds:\n",
    "    # select features using threshold\n",
    "    selection = SelectFromModel(xgb_model, threshold=thresh, prefit=True)\n",
    "    select_X_train = selection.transform(X_train)\n",
    "    # train model\n",
    "    selection_model = xgb.XGBClassifier()\n",
    "    selection_model.fit(select_X_train, y_train)\n",
    "    # eval model\n",
    "    select_X_test = selection.transform(X_test)\n",
    "    y_pred = selection_model.predict(select_X_test)\n",
    "    predictions = [value for value in y_pred]\n",
    "    accuracy = accuracy_score(y_test, predictions)\n",
    "    print(\"Thresh=%.3f, n=%d, Accuracy: %.2f%%\" % (thresh, select_X_train.shape[1], accuracy*100.0))"
   ]
  }
 ],
 "metadata": {
  "kernelspec": {
   "display_name": "Python 2",
   "language": "python",
   "name": "python2"
  },
  "language_info": {
   "codemirror_mode": {
    "name": "ipython",
    "version": 2
   },
   "file_extension": ".py",
   "mimetype": "text/x-python",
   "name": "python",
   "nbconvert_exporter": "python",
   "pygments_lexer": "ipython2",
   "version": "2.7.13"
  }
 },
 "nbformat": 4,
 "nbformat_minor": 2
}
